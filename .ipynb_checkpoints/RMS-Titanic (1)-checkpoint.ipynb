{
 "cells": [
  {
   "cell_type": "markdown",
   "metadata": {},
   "source": [
    "![titanic](titanic.jpg)\n"
   ]
  },
  {
   "cell_type": "code",
   "execution_count": 83,
   "metadata": {},
   "outputs": [],
   "source": [
    "import warnings\n",
    "warnings.filterwarnings('ignore')\n",
    "import pandas as pd\n",
    "import numpy as np\n",
    "from matplotlib import pyplot as plt\n",
    "from matplotlib import style\n",
    "import seaborn as sns\n",
    "\n",
    "%matplotlib inline"
   ]
  },
  {
   "cell_type": "code",
   "execution_count": 85,
   "metadata": {},
   "outputs": [],
   "source": [
    "data = pd.read_csv('titanic_data.csv')\n",
    "heatmap_data = pd.read_csv('titanic_data.csv')"
   ]
  },
  {
   "cell_type": "markdown",
   "metadata": {},
   "source": [
    "<h1 style=\"font-family:verdana; color:blue\">Exploratory Data Analysis (EDA)</h1>"
   ]
  },
  {
   "cell_type": "code",
   "execution_count": 4,
   "metadata": {},
   "outputs": [
    {
     "data": {
      "text/html": [
       "<div>\n",
       "<style scoped>\n",
       "    .dataframe tbody tr th:only-of-type {\n",
       "        vertical-align: middle;\n",
       "    }\n",
       "\n",
       "    .dataframe tbody tr th {\n",
       "        vertical-align: top;\n",
       "    }\n",
       "\n",
       "    .dataframe thead th {\n",
       "        text-align: right;\n",
       "    }\n",
       "</style>\n",
       "<table border=\"1\" class=\"dataframe\">\n",
       "  <thead>\n",
       "    <tr style=\"text-align: right;\">\n",
       "      <th></th>\n",
       "      <th>PassengerId</th>\n",
       "      <th>Survived</th>\n",
       "      <th>Pclass</th>\n",
       "      <th>Name</th>\n",
       "      <th>Sex</th>\n",
       "      <th>Age</th>\n",
       "      <th>SibSp</th>\n",
       "      <th>Parch</th>\n",
       "      <th>Ticket</th>\n",
       "      <th>Fare</th>\n",
       "      <th>Cabin</th>\n",
       "      <th>Embarked</th>\n",
       "    </tr>\n",
       "  </thead>\n",
       "  <tbody>\n",
       "    <tr>\n",
       "      <th>0</th>\n",
       "      <td>1</td>\n",
       "      <td>0</td>\n",
       "      <td>3</td>\n",
       "      <td>Braund, Mr. Owen Harris</td>\n",
       "      <td>male</td>\n",
       "      <td>22.0</td>\n",
       "      <td>1</td>\n",
       "      <td>0</td>\n",
       "      <td>A/5 21171</td>\n",
       "      <td>7.2500</td>\n",
       "      <td>NaN</td>\n",
       "      <td>S</td>\n",
       "    </tr>\n",
       "    <tr>\n",
       "      <th>1</th>\n",
       "      <td>2</td>\n",
       "      <td>1</td>\n",
       "      <td>1</td>\n",
       "      <td>Cumings, Mrs. John Bradley (Florence Briggs Th...</td>\n",
       "      <td>female</td>\n",
       "      <td>38.0</td>\n",
       "      <td>1</td>\n",
       "      <td>0</td>\n",
       "      <td>PC 17599</td>\n",
       "      <td>71.2833</td>\n",
       "      <td>C85</td>\n",
       "      <td>C</td>\n",
       "    </tr>\n",
       "    <tr>\n",
       "      <th>2</th>\n",
       "      <td>3</td>\n",
       "      <td>1</td>\n",
       "      <td>3</td>\n",
       "      <td>Heikkinen, Miss. Laina</td>\n",
       "      <td>female</td>\n",
       "      <td>26.0</td>\n",
       "      <td>0</td>\n",
       "      <td>0</td>\n",
       "      <td>STON/O2. 3101282</td>\n",
       "      <td>7.9250</td>\n",
       "      <td>NaN</td>\n",
       "      <td>S</td>\n",
       "    </tr>\n",
       "    <tr>\n",
       "      <th>3</th>\n",
       "      <td>4</td>\n",
       "      <td>1</td>\n",
       "      <td>1</td>\n",
       "      <td>Futrelle, Mrs. Jacques Heath (Lily May Peel)</td>\n",
       "      <td>female</td>\n",
       "      <td>35.0</td>\n",
       "      <td>1</td>\n",
       "      <td>0</td>\n",
       "      <td>113803</td>\n",
       "      <td>53.1000</td>\n",
       "      <td>C123</td>\n",
       "      <td>S</td>\n",
       "    </tr>\n",
       "    <tr>\n",
       "      <th>4</th>\n",
       "      <td>5</td>\n",
       "      <td>0</td>\n",
       "      <td>3</td>\n",
       "      <td>Allen, Mr. William Henry</td>\n",
       "      <td>male</td>\n",
       "      <td>35.0</td>\n",
       "      <td>0</td>\n",
       "      <td>0</td>\n",
       "      <td>373450</td>\n",
       "      <td>8.0500</td>\n",
       "      <td>NaN</td>\n",
       "      <td>S</td>\n",
       "    </tr>\n",
       "  </tbody>\n",
       "</table>\n",
       "</div>"
      ],
      "text/plain": [
       "   PassengerId  Survived  Pclass  \\\n",
       "0            1         0       3   \n",
       "1            2         1       1   \n",
       "2            3         1       3   \n",
       "3            4         1       1   \n",
       "4            5         0       3   \n",
       "\n",
       "                                                Name     Sex   Age  SibSp  \\\n",
       "0                            Braund, Mr. Owen Harris    male  22.0      1   \n",
       "1  Cumings, Mrs. John Bradley (Florence Briggs Th...  female  38.0      1   \n",
       "2                             Heikkinen, Miss. Laina  female  26.0      0   \n",
       "3       Futrelle, Mrs. Jacques Heath (Lily May Peel)  female  35.0      1   \n",
       "4                           Allen, Mr. William Henry    male  35.0      0   \n",
       "\n",
       "   Parch            Ticket     Fare Cabin Embarked  \n",
       "0      0         A/5 21171   7.2500   NaN        S  \n",
       "1      0          PC 17599  71.2833   C85        C  \n",
       "2      0  STON/O2. 3101282   7.9250   NaN        S  \n",
       "3      0            113803  53.1000  C123        S  \n",
       "4      0            373450   8.0500   NaN        S  "
      ]
     },
     "execution_count": 4,
     "metadata": {},
     "output_type": "execute_result"
    }
   ],
   "source": [
    "data.head()"
   ]
  },
  {
   "cell_type": "code",
   "execution_count": 5,
   "metadata": {},
   "outputs": [
    {
     "data": {
      "text/plain": [
       "(891, 12)"
      ]
     },
     "execution_count": 5,
     "metadata": {},
     "output_type": "execute_result"
    }
   ],
   "source": [
    "data.shape"
   ]
  },
  {
   "cell_type": "code",
   "execution_count": 6,
   "metadata": {},
   "outputs": [
    {
     "data": {
      "text/plain": [
       "Index(['PassengerId', 'Survived', 'Pclass', 'Name', 'Sex', 'Age', 'SibSp',\n",
       "       'Parch', 'Ticket', 'Fare', 'Cabin', 'Embarked'],\n",
       "      dtype='object')"
      ]
     },
     "execution_count": 6,
     "metadata": {},
     "output_type": "execute_result"
    }
   ],
   "source": [
    "data.columns"
   ]
  },
  {
   "cell_type": "markdown",
   "metadata": {},
   "source": [
    "sibsp:    # of siblings / spouses aboard the Titanic     \n",
    "parch:    # of parents / children aboard the Titanic     \n",
    "ticket:    Ticket number     \n",
    "fare:    Passenger fare     \n",
    "cabin:    Cabin number     \n",
    "embarked:    Port of Embarkation"
   ]
  },
  {
   "cell_type": "code",
   "execution_count": 7,
   "metadata": {},
   "outputs": [
    {
     "name": "stdout",
     "output_type": "stream",
     "text": [
      "<class 'pandas.core.frame.DataFrame'>\n",
      "RangeIndex: 891 entries, 0 to 890\n",
      "Data columns (total 12 columns):\n",
      "PassengerId    891 non-null int64\n",
      "Survived       891 non-null int64\n",
      "Pclass         891 non-null int64\n",
      "Name           891 non-null object\n",
      "Sex            891 non-null object\n",
      "Age            714 non-null float64\n",
      "SibSp          891 non-null int64\n",
      "Parch          891 non-null int64\n",
      "Ticket         891 non-null object\n",
      "Fare           891 non-null float64\n",
      "Cabin          204 non-null object\n",
      "Embarked       889 non-null object\n",
      "dtypes: float64(2), int64(5), object(5)\n",
      "memory usage: 83.6+ KB\n"
     ]
    }
   ],
   "source": [
    "data.info()"
   ]
  },
  {
   "cell_type": "code",
   "execution_count": 8,
   "metadata": {},
   "outputs": [
    {
     "data": {
      "text/html": [
       "<div>\n",
       "<style scoped>\n",
       "    .dataframe tbody tr th:only-of-type {\n",
       "        vertical-align: middle;\n",
       "    }\n",
       "\n",
       "    .dataframe tbody tr th {\n",
       "        vertical-align: top;\n",
       "    }\n",
       "\n",
       "    .dataframe thead th {\n",
       "        text-align: right;\n",
       "    }\n",
       "</style>\n",
       "<table border=\"1\" class=\"dataframe\">\n",
       "  <thead>\n",
       "    <tr style=\"text-align: right;\">\n",
       "      <th></th>\n",
       "      <th>PassengerId</th>\n",
       "      <th>Survived</th>\n",
       "      <th>Pclass</th>\n",
       "      <th>Age</th>\n",
       "      <th>SibSp</th>\n",
       "      <th>Parch</th>\n",
       "      <th>Fare</th>\n",
       "    </tr>\n",
       "  </thead>\n",
       "  <tbody>\n",
       "    <tr>\n",
       "      <th>count</th>\n",
       "      <td>891.000000</td>\n",
       "      <td>891.000000</td>\n",
       "      <td>891.000000</td>\n",
       "      <td>714.000000</td>\n",
       "      <td>891.000000</td>\n",
       "      <td>891.000000</td>\n",
       "      <td>891.000000</td>\n",
       "    </tr>\n",
       "    <tr>\n",
       "      <th>mean</th>\n",
       "      <td>446.000000</td>\n",
       "      <td>0.383838</td>\n",
       "      <td>2.308642</td>\n",
       "      <td>29.699118</td>\n",
       "      <td>0.523008</td>\n",
       "      <td>0.381594</td>\n",
       "      <td>32.204208</td>\n",
       "    </tr>\n",
       "    <tr>\n",
       "      <th>std</th>\n",
       "      <td>257.353842</td>\n",
       "      <td>0.486592</td>\n",
       "      <td>0.836071</td>\n",
       "      <td>14.526497</td>\n",
       "      <td>1.102743</td>\n",
       "      <td>0.806057</td>\n",
       "      <td>49.693429</td>\n",
       "    </tr>\n",
       "    <tr>\n",
       "      <th>min</th>\n",
       "      <td>1.000000</td>\n",
       "      <td>0.000000</td>\n",
       "      <td>1.000000</td>\n",
       "      <td>0.420000</td>\n",
       "      <td>0.000000</td>\n",
       "      <td>0.000000</td>\n",
       "      <td>0.000000</td>\n",
       "    </tr>\n",
       "    <tr>\n",
       "      <th>25%</th>\n",
       "      <td>223.500000</td>\n",
       "      <td>0.000000</td>\n",
       "      <td>2.000000</td>\n",
       "      <td>20.125000</td>\n",
       "      <td>0.000000</td>\n",
       "      <td>0.000000</td>\n",
       "      <td>7.910400</td>\n",
       "    </tr>\n",
       "    <tr>\n",
       "      <th>50%</th>\n",
       "      <td>446.000000</td>\n",
       "      <td>0.000000</td>\n",
       "      <td>3.000000</td>\n",
       "      <td>28.000000</td>\n",
       "      <td>0.000000</td>\n",
       "      <td>0.000000</td>\n",
       "      <td>14.454200</td>\n",
       "    </tr>\n",
       "    <tr>\n",
       "      <th>75%</th>\n",
       "      <td>668.500000</td>\n",
       "      <td>1.000000</td>\n",
       "      <td>3.000000</td>\n",
       "      <td>38.000000</td>\n",
       "      <td>1.000000</td>\n",
       "      <td>0.000000</td>\n",
       "      <td>31.000000</td>\n",
       "    </tr>\n",
       "    <tr>\n",
       "      <th>max</th>\n",
       "      <td>891.000000</td>\n",
       "      <td>1.000000</td>\n",
       "      <td>3.000000</td>\n",
       "      <td>80.000000</td>\n",
       "      <td>8.000000</td>\n",
       "      <td>6.000000</td>\n",
       "      <td>512.329200</td>\n",
       "    </tr>\n",
       "  </tbody>\n",
       "</table>\n",
       "</div>"
      ],
      "text/plain": [
       "       PassengerId    Survived      Pclass         Age       SibSp  \\\n",
       "count   891.000000  891.000000  891.000000  714.000000  891.000000   \n",
       "mean    446.000000    0.383838    2.308642   29.699118    0.523008   \n",
       "std     257.353842    0.486592    0.836071   14.526497    1.102743   \n",
       "min       1.000000    0.000000    1.000000    0.420000    0.000000   \n",
       "25%     223.500000    0.000000    2.000000   20.125000    0.000000   \n",
       "50%     446.000000    0.000000    3.000000   28.000000    0.000000   \n",
       "75%     668.500000    1.000000    3.000000   38.000000    1.000000   \n",
       "max     891.000000    1.000000    3.000000   80.000000    8.000000   \n",
       "\n",
       "            Parch        Fare  \n",
       "count  891.000000  891.000000  \n",
       "mean     0.381594   32.204208  \n",
       "std      0.806057   49.693429  \n",
       "min      0.000000    0.000000  \n",
       "25%      0.000000    7.910400  \n",
       "50%      0.000000   14.454200  \n",
       "75%      0.000000   31.000000  \n",
       "max      6.000000  512.329200  "
      ]
     },
     "execution_count": 8,
     "metadata": {},
     "output_type": "execute_result"
    }
   ],
   "source": [
    "data.describe()"
   ]
  },
  {
   "cell_type": "code",
   "execution_count": 86,
   "metadata": {},
   "outputs": [
    {
     "data": {
      "image/png": "[encoded data removed]",
      "text/plain": [
       "<Figure size 864x720 with 2 Axes>"
      ]
     },
     "metadata": {},
     "output_type": "display_data"
    }
   ],
   "source": [
    "fig,ax = plt.subplots(figsize=(12,10))\n",
    "cmap = sns.diverging_palette( 220 , 10 , as_cmap = True )\n",
    "ax = sns.heatmap(heatmap_data.corr(), vmin= -1, vmax= 1, annot=True, cmap=cmap )"
   ]
  },
  {
   "cell_type": "markdown",
   "metadata": {},
   "source": [
    "What data is actually missing?"
   ]
  },
  {
   "cell_type": "code",
   "execution_count": 10,
   "metadata": {},
   "outputs": [
    {
     "name": "stdout",
     "output_type": "stream",
     "text": [
      "          Total Missing     %\n",
      "Cabin               687  77.1\n",
      "Age                 177  19.9\n",
      "Embarked              2   0.2\n"
     ]
    }
   ],
   "source": [
    "missing_count = data.isnull().sum().sort_values(ascending=False)\n",
    "percentage = (missing_count / data.shape[0]) *100\n",
    "percentage = round(percentage,1)\n",
    "missing_df = pd.concat([missing_count, percentage], keys = ['Total Missing', '%'], axis=1) \n",
    "print(missing_df.head(3))"
   ]
  },
  {
   "cell_type": "markdown",
   "metadata": {},
   "source": [
    "- `Embarked` feature has only 2 missing values, which can easily be filled.\n",
    "- `Age` has 177 missing values which are 19% of the whole dataset, so it can be filled but more trickier than the `Embarked`\n",
    "- 77% of the `Cabin` values are missing so we might drop it."
   ]
  },
  {
   "cell_type": "markdown",
   "metadata": {},
   "source": [
    "Deleting features that's not important/not contribute to the survival of passengers."
   ]
  },
  {
   "cell_type": "code",
   "execution_count": 11,
   "metadata": {},
   "outputs": [
    {
     "data": {
      "text/plain": [
       "Index(['PassengerId', 'Survived', 'Pclass', 'Name', 'Sex', 'Age', 'SibSp',\n",
       "       'Parch', 'Ticket', 'Fare', 'Cabin', 'Embarked'],\n",
       "      dtype='object')"
      ]
     },
     "execution_count": 11,
     "metadata": {},
     "output_type": "execute_result"
    }
   ],
   "source": [
    "data.columns"
   ]
  },
  {
   "cell_type": "code",
   "execution_count": 13,
   "metadata": {},
   "outputs": [
    {
     "data": {
      "image/png": "[encoded data removed]",
      "text/plain": [
       "<Figure size 1440x1080 with 9 Axes>"
      ]
     },
     "metadata": {},
     "output_type": "display_data"
    }
   ],
   "source": [
    "data.hist(bins=10, figsize=(20,15))\n",
    "plt.show()"
   ]
  },
  {
   "cell_type": "code",
   "execution_count": 14,
   "metadata": {},
   "outputs": [],
   "source": [
    "df = data"
   ]
  },
  {
   "cell_type": "code",
   "execution_count": 15,
   "metadata": {},
   "outputs": [
    {
     "data": {
      "text/plain": [
       "male      577\n",
       "female    314\n",
       "Name: Sex, dtype: int64"
      ]
     },
     "execution_count": 15,
     "metadata": {},
     "output_type": "execute_result"
    }
   ],
   "source": [
    "df['Sex'].value_counts()"
   ]
  },
  {
   "cell_type": "code",
   "execution_count": 16,
   "metadata": {},
   "outputs": [
    {
     "data": {
      "text/plain": [
       "3    491\n",
       "1    216\n",
       "2    184\n",
       "Name: Pclass, dtype: int64"
      ]
     },
     "execution_count": 16,
     "metadata": {},
     "output_type": "execute_result"
    }
   ],
   "source": [
    "df['Pclass'].value_counts()"
   ]
  },
  {
   "cell_type": "code",
   "execution_count": 17,
   "metadata": {},
   "outputs": [
    {
     "data": {
      "text/plain": [
       "array(['male', 'female'], dtype=object)"
      ]
     },
     "execution_count": 17,
     "metadata": {},
     "output_type": "execute_result"
    }
   ],
   "source": [
    "df['Sex'].unique()"
   ]
  },
  {
   "cell_type": "markdown",
   "metadata": {},
   "source": [
    "## Age, Sex and Survival"
   ]
  },
  {
   "cell_type": "code",
   "execution_count": 18,
   "metadata": {},
   "outputs": [
    {
     "data": {
      "text/plain": [
       "<seaborn.axisgrid.FacetGrid at 0x7f0c67a6c780>"
      ]
     },
     "execution_count": 18,
     "metadata": {},
     "output_type": "execute_result"
    },
    {
     "data": {
      "image/png": "[encoded data removed]",
      "text/plain": [
       "<Figure size 915.875x216 with 1 Axes>"
      ]
     },
     "metadata": {},
     "output_type": "display_data"
    }
   ],
   "source": [
    "FacetGrid = sns.FacetGrid(df, hue='Survived', aspect=4)\n",
    "FacetGrid.map(sns.kdeplot, 'Age', shade=True)\n",
    "FacetGrid.set(xlim=(0, df['Age'].max()))\n",
    "FacetGrid.add_legend()"
   ]
  },
  {
   "cell_type": "code",
   "execution_count": 84,
   "metadata": {},
   "outputs": [
    {
     "name": "stdout",
     "output_type": "stream",
     "text": [
      "0\n",
      "Number of  0 :  577\n",
      "Number of  0 Survived:  109\n",
      "Percantage of  0 survived:  18.89 %\n",
      "\n",
      " ====== \n",
      "\n",
      "1\n",
      "Number of  1 :  314\n",
      "Number of  1 Survived:  233\n",
      "Percantage of  1 survived:  74.20 %\n",
      "\n",
      " ====== \n",
      "\n"
     ]
    },
    {
     "data": {
      "image/png": "[encoded data removed]",
      "text/plain": [
       "<Figure size 864x360 with 2 Axes>"
      ]
     },
     "metadata": {},
     "output_type": "display_data"
    }
   ],
   "source": [
    "survived = 'Survived'\n",
    "not_survived = 'Not Survived'\n",
    "fig, axes = plt.subplots(nrows=1, ncols=2, figsize=(12, 5))\n",
    "\n",
    "\n",
    "for i,gen in enumerate(df['Sex'].unique()):\n",
    "    print(gen)\n",
    "    gender = df[df['Sex'] == gen]\n",
    "    print(\"Number of \", gen, \": \", gender.shape[0])\n",
    "    gender_survived = gender[gender['Survived'] == 1]\n",
    "    gender_not_survived = gender[gender['Survived'] == 0]\n",
    "    print(\"Number of \", gen, \"Survived: \", gender_survived.shape[0])\n",
    "    survival_percentage = (gender_survived.shape[0] / gender.shape[0])*100\n",
    "    print(\"Percantage of \", gen, \"survived: \", \"%.2f\" % survival_percentage, \"%\")\n",
    "    print(\"\\n ====== \\n\")\n",
    "    \n",
    "    \n",
    "    #plot\n",
    "    ax = sns.distplot(gender_survived.Age.dropna(), bins= 18, label= survived, ax= axes[i], kde=False)\n",
    "    ax = sns.distplot(gender_survived.Age.dropna(), bins=40, label= not_survived, ax= axes[i], kde=False)\n",
    "    ax.legend()\n",
    "    ax.set_title(gen)\n",
    "plt.show()\n",
    "    "
   ]
  },
  {
   "cell_type": "markdown",
   "metadata": {},
   "source": [
    "`Age` vs. `Sex` Survival  Observation\n",
    "===========================================\n",
    "\n",
    "**Male:**\n",
    "\n",
    "Males between 18 to 30 years old are most likely to survive.\n",
    "\n",
    "**Female:**\n",
    "\n",
    "Females between 15 to 40 are most likely to survive.\n",
    "\n",
    "**Infants:**\n",
    "\n",
    " Infants also have higher probability of survival."
   ]
  },
  {
   "cell_type": "markdown",
   "metadata": {},
   "source": [
    "## Embarked, Pclass and Sex:\n",
    "\n",
    "\n"
   ]
  },
  {
   "cell_type": "code",
   "execution_count": 20,
   "metadata": {},
   "outputs": [
    {
     "data": {
      "text/plain": [
       "<seaborn.axisgrid.FacetGrid at 0x7f0c67ff5b00>"
      ]
     },
     "execution_count": 20,
     "metadata": {},
     "output_type": "execute_result"
    },
    {
     "data": {
      "image/png": "[encoded data removed]",
      "text/plain": [
       "<Figure size 588.9x972 with 3 Axes>"
      ]
     },
     "metadata": {},
     "output_type": "display_data"
    }
   ],
   "source": [
    "FacetGrid = sns.FacetGrid(df, row='Embarked', size= 4.5, aspect= 1.6)\n",
    "FacetGrid.map(sns.pointplot, 'Pclass', 'Survived', 'Sex', palette=\"husl\", order=None, hue_order=None)\n",
    "FacetGrid.add_legend()"
   ]
  },
  {
   "cell_type": "markdown",
   "metadata": {},
   "source": [
    "### Embarked, Pclass and Sex **Observation**:\n",
    "\n",
    "**Female:**\n",
    "Females are more likely to survive on port Q and S, while they have less chance of survival on port C.\n",
    "\n",
    "**Male:**\n",
    "Males have higher chance of survival on port C and less chance of survival on port Q and S.\n",
    "\n",
    "_**Note:**_ It seems like the `Pclass` is also correlated with survival rate so we need to investigate more on that.\n"
   ]
  },
  {
   "cell_type": "markdown",
   "metadata": {},
   "source": [
    "## Pclass vs. Survival"
   ]
  },
  {
   "cell_type": "code",
   "execution_count": 21,
   "metadata": {},
   "outputs": [
    {
     "name": "stdout",
     "output_type": "stream",
     "text": [
      "class:  3\n",
      "Number of passengers in class 3 :  491\n",
      "Number of passengers survived in class  3 : 119\n",
      "Percantage of passengers survived in class  3 :  24.24 %\n",
      "\n",
      " ====== \n",
      "\n",
      "class:  1\n",
      "Number of passengers in class 1 :  216\n",
      "Number of passengers survived in class  1 : 136\n",
      "Percantage of passengers survived in class  1 :  62.96 %\n",
      "\n",
      " ====== \n",
      "\n",
      "class:  2\n",
      "Number of passengers in class 2 :  184\n",
      "Number of passengers survived in class  2 : 87\n",
      "Percantage of passengers survived in class  2 :  47.28 %\n",
      "\n",
      " ====== \n",
      "\n"
     ]
    }
   ],
   "source": [
    "for cls in df['Pclass'].unique():\n",
    "    print(\"class: \", cls)\n",
    "    cls_passengers = df[df['Pclass'] == cls]\n",
    "    print(\"Number of passengers in class\", cls, \": \",  cls_passengers.shape[0])\n",
    "    cls_survived = cls_passengers[cls_passengers['Survived'] == 1]\n",
    "    print(\"Number of passengers survived in class \", cls, \":\", cls_survived.shape[0])\n",
    "    cls_survival_percentage = (cls_survived.shape[0] / cls_passengers.shape[0])*100\n",
    "    print(\"Percantage of passengers survived in class \",cls, \": \", \"%.2f\" % cls_survival_percentage, \"%\") \n",
    "    print(\"\\n ====== \\n\")"
   ]
  },
  {
   "cell_type": "code",
   "execution_count": 22,
   "metadata": {},
   "outputs": [
    {
     "data": {
      "text/plain": [
       "<matplotlib.axes._subplots.AxesSubplot at 0x7f0c67ca4748>"
      ]
     },
     "execution_count": 22,
     "metadata": {},
     "output_type": "execute_result"
    },
    {
     "data": {
      "image/png": "[encoded data removed]",
      "text/plain": [
       "<Figure size 432x288 with 1 Axes>"
      ]
     },
     "metadata": {},
     "output_type": "display_data"
    }
   ],
   "source": [
    "sns.barplot(data=df, x='Pclass', y='Survived', palette='coolwarm')"
   ]
  },
  {
   "cell_type": "code",
   "execution_count": 23,
   "metadata": {},
   "outputs": [
    {
     "data": {
      "image/png": "[encoded data removed]",
      "text/plain": [
       "<Figure size 1080x648 with 1 Axes>"
      ]
     },
     "metadata": {},
     "output_type": "display_data"
    }
   ],
   "source": [
    "fig, ax = plt.subplots(figsize=(15,9))\n",
    "sns.violinplot(x=\"Pclass\", y=\"Age\", hue='Survived', data=df, split=True, bw=0.05 , palette='husl', ax=ax)\n",
    "plt.title('Survivals for Age and Pclass ')\n",
    "plt.show()"
   ]
  },
  {
   "cell_type": "code",
   "execution_count": 24,
   "metadata": {},
   "outputs": [
    {
     "data": {
      "image/png": "[encoded data removed]",
      "text/plain": [
       "<Figure size 1088.67x576 with 2 Axes>"
      ]
     },
     "metadata": {},
     "output_type": "display_data"
    }
   ],
   "source": [
    "g = sns.factorplot(x=\"Pclass\", y=\"Age\", hue=\"Survived\", col=\"Sex\", data=df, kind=\"swarm\", dodge=True, palette='husl', size=8, aspect=.9, s=8)"
   ]
  },
  {
   "cell_type": "markdown",
   "metadata": {},
   "source": [
    "## Pclass vs. Survival Observation\n",
    "A person in Pclass 1 has high probability to survive while the inverse is True for Pclass 3 which has a high probability not to survive. "
   ]
  },
  {
   "cell_type": "markdown",
   "metadata": {},
   "source": [
    "## SibSp and Parch:"
   ]
  },
  {
   "cell_type": "code",
   "execution_count": 25,
   "metadata": {},
   "outputs": [
    {
     "data": {
      "text/html": [
       "<style  type=\"text/css\" >\n",
       "    #T_15caf2cc_a936_11e8_8d78_0024d7776824row0_col0 {\n",
       "            background-color:  #6bb566;\n",
       "        }    #T_15caf2cc_a936_11e8_8d78_0024d7776824row0_col1 {\n",
       "            background-color:  #94ca66;\n",
       "        }    #T_15caf2cc_a936_11e8_8d78_0024d7776824row1_col0 {\n",
       "            background-color:  #c3e166;\n",
       "        }    #T_15caf2cc_a936_11e8_8d78_0024d7776824row1_col1 {\n",
       "            background-color:  #3c9e66;\n",
       "        }    #T_15caf2cc_a936_11e8_8d78_0024d7776824row2_col0 {\n",
       "            background-color:  #cce666;\n",
       "        }    #T_15caf2cc_a936_11e8_8d78_0024d7776824row2_col1 {\n",
       "            background-color:  #339966;\n",
       "        }    #T_15caf2cc_a936_11e8_8d78_0024d7776824row3_col0 {\n",
       "            background-color:  #ffff66;\n",
       "        }    #T_15caf2cc_a936_11e8_8d78_0024d7776824row3_col1 {\n",
       "            background-color:  #008066;\n",
       "        }    #T_15caf2cc_a936_11e8_8d78_0024d7776824row4_col0 {\n",
       "            background-color:  #46a266;\n",
       "        }    #T_15caf2cc_a936_11e8_8d78_0024d7776824row4_col1 {\n",
       "            background-color:  #b9dc66;\n",
       "        }    #T_15caf2cc_a936_11e8_8d78_0024d7776824row5_col0 {\n",
       "            background-color:  #309866;\n",
       "        }    #T_15caf2cc_a936_11e8_8d78_0024d7776824row5_col1 {\n",
       "            background-color:  #cfe766;\n",
       "        }    #T_15caf2cc_a936_11e8_8d78_0024d7776824row6_col0 {\n",
       "            background-color:  #75ba66;\n",
       "        }    #T_15caf2cc_a936_11e8_8d78_0024d7776824row6_col1 {\n",
       "            background-color:  #8ac466;\n",
       "        }    #T_15caf2cc_a936_11e8_8d78_0024d7776824row7_col0 {\n",
       "            background-color:  #008066;\n",
       "        }    #T_15caf2cc_a936_11e8_8d78_0024d7776824row7_col1 {\n",
       "            background-color:  #ffff66;\n",
       "        }    #T_15caf2cc_a936_11e8_8d78_0024d7776824row8_col0 {\n",
       "            background-color:  #008066;\n",
       "        }    #T_15caf2cc_a936_11e8_8d78_0024d7776824row8_col1 {\n",
       "            background-color:  #ffff66;\n",
       "        }</style>  \n",
       "<table id=\"T_15caf2cc_a936_11e8_8d78_0024d7776824\" > \n",
       "<thead>    <tr> \n",
       "        <th class=\"index_name level0\" >Survived</th> \n",
       "        <th class=\"col_heading level0 col0\" >0</th> \n",
       "        <th class=\"col_heading level0 col1\" >1</th> \n",
       "    </tr>    <tr> \n",
       "        <th class=\"index_name level0\" >Relatives</th> \n",
       "        <th class=\"blank\" ></th> \n",
       "        <th class=\"blank\" ></th> \n",
       "    </tr></thead> \n",
       "<tbody>    <tr> \n",
       "        <th id=\"T_15caf2cc_a936_11e8_8d78_0024d7776824level0_row0\" class=\"row_heading level0 row0\" >0</th> \n",
       "        <td id=\"T_15caf2cc_a936_11e8_8d78_0024d7776824row0_col0\" class=\"data row0 col0\" >0.696462</td> \n",
       "        <td id=\"T_15caf2cc_a936_11e8_8d78_0024d7776824row0_col1\" class=\"data row0 col1\" >0.303538</td> \n",
       "    </tr>    <tr> \n",
       "        <th id=\"T_15caf2cc_a936_11e8_8d78_0024d7776824level0_row1\" class=\"row_heading level0 row1\" >1</th> \n",
       "        <td id=\"T_15caf2cc_a936_11e8_8d78_0024d7776824row1_col0\" class=\"data row1 col0\" >0.447205</td> \n",
       "        <td id=\"T_15caf2cc_a936_11e8_8d78_0024d7776824row1_col1\" class=\"data row1 col1\" >0.552795</td> \n",
       "    </tr>    <tr> \n",
       "        <th id=\"T_15caf2cc_a936_11e8_8d78_0024d7776824level0_row2\" class=\"row_heading level0 row2\" >2</th> \n",
       "        <td id=\"T_15caf2cc_a936_11e8_8d78_0024d7776824row2_col0\" class=\"data row2 col0\" >0.421569</td> \n",
       "        <td id=\"T_15caf2cc_a936_11e8_8d78_0024d7776824row2_col1\" class=\"data row2 col1\" >0.578431</td> \n",
       "    </tr>    <tr> \n",
       "        <th id=\"T_15caf2cc_a936_11e8_8d78_0024d7776824level0_row3\" class=\"row_heading level0 row3\" >3</th> \n",
       "        <td id=\"T_15caf2cc_a936_11e8_8d78_0024d7776824row3_col0\" class=\"data row3 col0\" >0.275862</td> \n",
       "        <td id=\"T_15caf2cc_a936_11e8_8d78_0024d7776824row3_col1\" class=\"data row3 col1\" >0.724138</td> \n",
       "    </tr>    <tr> \n",
       "        <th id=\"T_15caf2cc_a936_11e8_8d78_0024d7776824level0_row4\" class=\"row_heading level0 row4\" >4</th> \n",
       "        <td id=\"T_15caf2cc_a936_11e8_8d78_0024d7776824row4_col0\" class=\"data row4 col0\" >0.8</td> \n",
       "        <td id=\"T_15caf2cc_a936_11e8_8d78_0024d7776824row4_col1\" class=\"data row4 col1\" >0.2</td> \n",
       "    </tr>    <tr> \n",
       "        <th id=\"T_15caf2cc_a936_11e8_8d78_0024d7776824level0_row5\" class=\"row_heading level0 row5\" >5</th> \n",
       "        <td id=\"T_15caf2cc_a936_11e8_8d78_0024d7776824row5_col0\" class=\"data row5 col0\" >0.863636</td> \n",
       "        <td id=\"T_15caf2cc_a936_11e8_8d78_0024d7776824row5_col1\" class=\"data row5 col1\" >0.136364</td> \n",
       "    </tr>    <tr> \n",
       "        <th id=\"T_15caf2cc_a936_11e8_8d78_0024d7776824level0_row6\" class=\"row_heading level0 row6\" >6</th> \n",
       "        <td id=\"T_15caf2cc_a936_11e8_8d78_0024d7776824row6_col0\" class=\"data row6 col0\" >0.666667</td> \n",
       "        <td id=\"T_15caf2cc_a936_11e8_8d78_0024d7776824row6_col1\" class=\"data row6 col1\" >0.333333</td> \n",
       "    </tr>    <tr> \n",
       "        <th id=\"T_15caf2cc_a936_11e8_8d78_0024d7776824level0_row7\" class=\"row_heading level0 row7\" >7</th> \n",
       "        <td id=\"T_15caf2cc_a936_11e8_8d78_0024d7776824row7_col0\" class=\"data row7 col0\" >1</td> \n",
       "        <td id=\"T_15caf2cc_a936_11e8_8d78_0024d7776824row7_col1\" class=\"data row7 col1\" >0</td> \n",
       "    </tr>    <tr> \n",
       "        <th id=\"T_15caf2cc_a936_11e8_8d78_0024d7776824level0_row8\" class=\"row_heading level0 row8\" >10</th> \n",
       "        <td id=\"T_15caf2cc_a936_11e8_8d78_0024d7776824row8_col0\" class=\"data row8 col0\" >1</td> \n",
       "        <td id=\"T_15caf2cc_a936_11e8_8d78_0024d7776824row8_col1\" class=\"data row8 col1\" >0</td> \n",
       "    </tr></tbody> \n",
       "</table> "
      ],
      "text/plain": [
       "<pandas.io.formats.style.Styler at 0x7f0c67a0ec88>"
      ]
     },
     "execution_count": 25,
     "metadata": {},
     "output_type": "execute_result"
    }
   ],
   "source": [
    "for dataset in [df]:\n",
    "    dataset['Relatives'] = dataset['SibSp'] + dataset['Parch']\n",
    "    dataset.loc[dataset['Relatives'] > 0, 'Alone'] = 0\n",
    "    dataset.loc[dataset['Relatives'] == 0, 'Alone'] =1\n",
    "    dataset['Alone'] = dataset['Alone'].astype(int)\n",
    "pd.crosstab(df.Relatives,df.Survived).apply(lambda r: r/r.sum(), axis=1).style.background_gradient(cmap='summer_r')\n"
   ]
  },
  {
   "cell_type": "code",
   "execution_count": 26,
   "metadata": {},
   "outputs": [
    {
     "data": {
      "text/plain": [
       "<seaborn.axisgrid.FacetGrid at 0x7f0c67a5f8d0>"
      ]
     },
     "execution_count": 26,
     "metadata": {},
     "output_type": "execute_result"
    },
    {
     "data": {
      "image/png": "[encoded data removed]",
      "text/plain": [
       "<Figure size 720x288 with 1 Axes>"
      ]
     },
     "metadata": {},
     "output_type": "display_data"
    }
   ],
   "source": [
    "sns.factorplot('Relatives', 'Survived', data = df, aspect=2.5)"
   ]
  },
  {
   "cell_type": "markdown",
   "metadata": {},
   "source": [
    "## SibSp and Parch Observation:\n",
    "If a person has siblings between 1 to 3 then he has a higher probability of survivial, while having number of siblings less than 1 or greater than 3 makes the chance of survival very low except for some cases with 6 siblings."
   ]
  },
  {
   "cell_type": "markdown",
   "metadata": {},
   "source": [
    "========================================================================================="
   ]
  },
  {
   "cell_type": "markdown",
   "metadata": {},
   "source": [
    "========================================================================================="
   ]
  },
  {
   "cell_type": "markdown",
   "metadata": {},
   "source": [
    "<h1 style=\"font-family:verdana; color:blue\"> Feature Engineering - DATA WRANGLING </h1>"
   ]
  },
  {
   "cell_type": "markdown",
   "metadata": {},
   "source": [
    "1) Dropping Features that may not contribute to survival\n",
    "\n",
    "- `Ticket` feature may be dropped from our analysis as it contains high ratio of duplicates (22%) and there may not be a correlation between Ticket and survival.\n",
    "\n",
    "- `Cabin` feature may be dropped as it is highly incomplete or contains many null values.\n",
    "\n",
    "- `PassengerId` may be dropped from training dataset as it does not contribute to survival."
   ]
  },
  {
   "cell_type": "code",
   "execution_count": 27,
   "metadata": {},
   "outputs": [
    {
     "name": "stdout",
     "output_type": "stream",
     "text": [
      "No. of columns before dropping:  14\n",
      "No. of columns After dropping:  11\n"
     ]
    }
   ],
   "source": [
    "print('No. of columns before dropping: ', df.shape[1])\n",
    "df.drop(['Ticket', 'Cabin', 'PassengerId'], axis=1, inplace=True)\n",
    "print('No. of columns After dropping: ', df.shape[1])\n"
   ]
  },
  {
   "cell_type": "markdown",
   "metadata": {},
   "source": [
    "2)`Name` feature:  Names may not correlate with the survival so we want to drop it, but first, what if the Titles of names itself correlate with the survival? \n",
    "\n",
    "We need to investigate that before dropping the name feature so, we are going to replace names by it's Titles first using Regular Expressions RegEX  pattern (\\w+\\.) matches the first word which ends with a dot character within Name feature."
   ]
  },
  {
   "cell_type": "code",
   "execution_count": 28,
   "metadata": {},
   "outputs": [
    {
     "data": {
      "text/html": [
       "<style  type=\"text/css\" >\n",
       "    #T_15caf2cd_a936_11e8_8d78_0024d7776824row0_col0 {\n",
       "            background-color:  #ffff66;\n",
       "        }    #T_15caf2cd_a936_11e8_8d78_0024d7776824row0_col1 {\n",
       "            background-color:  #ffff66;\n",
       "        }    #T_15caf2cd_a936_11e8_8d78_0024d7776824row0_col2 {\n",
       "            background-color:  #008066;\n",
       "        }    #T_15caf2cd_a936_11e8_8d78_0024d7776824row0_col3 {\n",
       "            background-color:  #ffff66;\n",
       "        }    #T_15caf2cd_a936_11e8_8d78_0024d7776824row0_col4 {\n",
       "            background-color:  #ffff66;\n",
       "        }    #T_15caf2cd_a936_11e8_8d78_0024d7776824row0_col5 {\n",
       "            background-color:  #ffff66;\n",
       "        }    #T_15caf2cd_a936_11e8_8d78_0024d7776824row0_col6 {\n",
       "            background-color:  #008066;\n",
       "        }    #T_15caf2cd_a936_11e8_8d78_0024d7776824row0_col7 {\n",
       "            background-color:  #ffff66;\n",
       "        }    #T_15caf2cd_a936_11e8_8d78_0024d7776824row0_col8 {\n",
       "            background-color:  #ffff66;\n",
       "        }    #T_15caf2cd_a936_11e8_8d78_0024d7776824row0_col9 {\n",
       "            background-color:  #008066;\n",
       "        }    #T_15caf2cd_a936_11e8_8d78_0024d7776824row0_col10 {\n",
       "            background-color:  #008066;\n",
       "        }    #T_15caf2cd_a936_11e8_8d78_0024d7776824row0_col11 {\n",
       "            background-color:  #008066;\n",
       "        }    #T_15caf2cd_a936_11e8_8d78_0024d7776824row0_col12 {\n",
       "            background-color:  #ffff66;\n",
       "        }    #T_15caf2cd_a936_11e8_8d78_0024d7776824row0_col13 {\n",
       "            background-color:  #008066;\n",
       "        }    #T_15caf2cd_a936_11e8_8d78_0024d7776824row0_col14 {\n",
       "            background-color:  #008066;\n",
       "        }    #T_15caf2cd_a936_11e8_8d78_0024d7776824row0_col15 {\n",
       "            background-color:  #ffff66;\n",
       "        }    #T_15caf2cd_a936_11e8_8d78_0024d7776824row0_col16 {\n",
       "            background-color:  #ffff66;\n",
       "        }    #T_15caf2cd_a936_11e8_8d78_0024d7776824row1_col0 {\n",
       "            background-color:  #008066;\n",
       "        }    #T_15caf2cd_a936_11e8_8d78_0024d7776824row1_col1 {\n",
       "            background-color:  #008066;\n",
       "        }    #T_15caf2cd_a936_11e8_8d78_0024d7776824row1_col2 {\n",
       "            background-color:  #ffff66;\n",
       "        }    #T_15caf2cd_a936_11e8_8d78_0024d7776824row1_col3 {\n",
       "            background-color:  #008066;\n",
       "        }    #T_15caf2cd_a936_11e8_8d78_0024d7776824row1_col4 {\n",
       "            background-color:  #008066;\n",
       "        }    #T_15caf2cd_a936_11e8_8d78_0024d7776824row1_col5 {\n",
       "            background-color:  #008066;\n",
       "        }    #T_15caf2cd_a936_11e8_8d78_0024d7776824row1_col6 {\n",
       "            background-color:  #ffff66;\n",
       "        }    #T_15caf2cd_a936_11e8_8d78_0024d7776824row1_col7 {\n",
       "            background-color:  #008066;\n",
       "        }    #T_15caf2cd_a936_11e8_8d78_0024d7776824row1_col8 {\n",
       "            background-color:  #008066;\n",
       "        }    #T_15caf2cd_a936_11e8_8d78_0024d7776824row1_col9 {\n",
       "            background-color:  #ffff66;\n",
       "        }    #T_15caf2cd_a936_11e8_8d78_0024d7776824row1_col10 {\n",
       "            background-color:  #ffff66;\n",
       "        }    #T_15caf2cd_a936_11e8_8d78_0024d7776824row1_col11 {\n",
       "            background-color:  #ffff66;\n",
       "        }    #T_15caf2cd_a936_11e8_8d78_0024d7776824row1_col12 {\n",
       "            background-color:  #008066;\n",
       "        }    #T_15caf2cd_a936_11e8_8d78_0024d7776824row1_col13 {\n",
       "            background-color:  #ffff66;\n",
       "        }    #T_15caf2cd_a936_11e8_8d78_0024d7776824row1_col14 {\n",
       "            background-color:  #ffff66;\n",
       "        }    #T_15caf2cd_a936_11e8_8d78_0024d7776824row1_col15 {\n",
       "            background-color:  #008066;\n",
       "        }    #T_15caf2cd_a936_11e8_8d78_0024d7776824row1_col16 {\n",
       "            background-color:  #008066;\n",
       "        }</style>  \n",
       "<table id=\"T_15caf2cd_a936_11e8_8d78_0024d7776824\" > \n",
       "<thead>    <tr> \n",
       "        <th class=\"index_name level0\" >Title</th> \n",
       "        <th class=\"col_heading level0 col0\" >Capt</th> \n",
       "        <th class=\"col_heading level0 col1\" >Col</th> \n",
       "        <th class=\"col_heading level0 col2\" >Countess</th> \n",
       "        <th class=\"col_heading level0 col3\" >Don</th> \n",
       "        <th class=\"col_heading level0 col4\" >Dr</th> \n",
       "        <th class=\"col_heading level0 col5\" >Jonkheer</th> \n",
       "        <th class=\"col_heading level0 col6\" >Lady</th> \n",
       "        <th class=\"col_heading level0 col7\" >Major</th> \n",
       "        <th class=\"col_heading level0 col8\" >Master</th> \n",
       "        <th class=\"col_heading level0 col9\" >Miss</th> \n",
       "        <th class=\"col_heading level0 col10\" >Mlle</th> \n",
       "        <th class=\"col_heading level0 col11\" >Mme</th> \n",
       "        <th class=\"col_heading level0 col12\" >Mr</th> \n",
       "        <th class=\"col_heading level0 col13\" >Mrs</th> \n",
       "        <th class=\"col_heading level0 col14\" >Ms</th> \n",
       "        <th class=\"col_heading level0 col15\" >Rev</th> \n",
       "        <th class=\"col_heading level0 col16\" >Sir</th> \n",
       "    </tr>    <tr> \n",
       "        <th class=\"index_name level0\" >Sex</th> \n",
       "        <th class=\"blank\" ></th> \n",
       "        <th class=\"blank\" ></th> \n",
       "        <th class=\"blank\" ></th> \n",
       "        <th class=\"blank\" ></th> \n",
       "        <th class=\"blank\" ></th> \n",
       "        <th class=\"blank\" ></th> \n",
       "        <th class=\"blank\" ></th> \n",
       "        <th class=\"blank\" ></th> \n",
       "        <th class=\"blank\" ></th> \n",
       "        <th class=\"blank\" ></th> \n",
       "        <th class=\"blank\" ></th> \n",
       "        <th class=\"blank\" ></th> \n",
       "        <th class=\"blank\" ></th> \n",
       "        <th class=\"blank\" ></th> \n",
       "        <th class=\"blank\" ></th> \n",
       "        <th class=\"blank\" ></th> \n",
       "        <th class=\"blank\" ></th> \n",
       "    </tr></thead> \n",
       "<tbody>    <tr> \n",
       "        <th id=\"T_15caf2cd_a936_11e8_8d78_0024d7776824level0_row0\" class=\"row_heading level0 row0\" >female</th> \n",
       "        <td id=\"T_15caf2cd_a936_11e8_8d78_0024d7776824row0_col0\" class=\"data row0 col0\" >0</td> \n",
       "        <td id=\"T_15caf2cd_a936_11e8_8d78_0024d7776824row0_col1\" class=\"data row0 col1\" >0</td> \n",
       "        <td id=\"T_15caf2cd_a936_11e8_8d78_0024d7776824row0_col2\" class=\"data row0 col2\" >1</td> \n",
       "        <td id=\"T_15caf2cd_a936_11e8_8d78_0024d7776824row0_col3\" class=\"data row0 col3\" >0</td> \n",
       "        <td id=\"T_15caf2cd_a936_11e8_8d78_0024d7776824row0_col4\" class=\"data row0 col4\" >1</td> \n",
       "        <td id=\"T_15caf2cd_a936_11e8_8d78_0024d7776824row0_col5\" class=\"data row0 col5\" >0</td> \n",
       "        <td id=\"T_15caf2cd_a936_11e8_8d78_0024d7776824row0_col6\" class=\"data row0 col6\" >1</td> \n",
       "        <td id=\"T_15caf2cd_a936_11e8_8d78_0024d7776824row0_col7\" class=\"data row0 col7\" >0</td> \n",
       "        <td id=\"T_15caf2cd_a936_11e8_8d78_0024d7776824row0_col8\" class=\"data row0 col8\" >0</td> \n",
       "        <td id=\"T_15caf2cd_a936_11e8_8d78_0024d7776824row0_col9\" class=\"data row0 col9\" >182</td> \n",
       "        <td id=\"T_15caf2cd_a936_11e8_8d78_0024d7776824row0_col10\" class=\"data row0 col10\" >2</td> \n",
       "        <td id=\"T_15caf2cd_a936_11e8_8d78_0024d7776824row0_col11\" class=\"data row0 col11\" >1</td> \n",
       "        <td id=\"T_15caf2cd_a936_11e8_8d78_0024d7776824row0_col12\" class=\"data row0 col12\" >0</td> \n",
       "        <td id=\"T_15caf2cd_a936_11e8_8d78_0024d7776824row0_col13\" class=\"data row0 col13\" >125</td> \n",
       "        <td id=\"T_15caf2cd_a936_11e8_8d78_0024d7776824row0_col14\" class=\"data row0 col14\" >1</td> \n",
       "        <td id=\"T_15caf2cd_a936_11e8_8d78_0024d7776824row0_col15\" class=\"data row0 col15\" >0</td> \n",
       "        <td id=\"T_15caf2cd_a936_11e8_8d78_0024d7776824row0_col16\" class=\"data row0 col16\" >0</td> \n",
       "    </tr>    <tr> \n",
       "        <th id=\"T_15caf2cd_a936_11e8_8d78_0024d7776824level0_row1\" class=\"row_heading level0 row1\" >male</th> \n",
       "        <td id=\"T_15caf2cd_a936_11e8_8d78_0024d7776824row1_col0\" class=\"data row1 col0\" >1</td> \n",
       "        <td id=\"T_15caf2cd_a936_11e8_8d78_0024d7776824row1_col1\" class=\"data row1 col1\" >2</td> \n",
       "        <td id=\"T_15caf2cd_a936_11e8_8d78_0024d7776824row1_col2\" class=\"data row1 col2\" >0</td> \n",
       "        <td id=\"T_15caf2cd_a936_11e8_8d78_0024d7776824row1_col3\" class=\"data row1 col3\" >1</td> \n",
       "        <td id=\"T_15caf2cd_a936_11e8_8d78_0024d7776824row1_col4\" class=\"data row1 col4\" >6</td> \n",
       "        <td id=\"T_15caf2cd_a936_11e8_8d78_0024d7776824row1_col5\" class=\"data row1 col5\" >1</td> \n",
       "        <td id=\"T_15caf2cd_a936_11e8_8d78_0024d7776824row1_col6\" class=\"data row1 col6\" >0</td> \n",
       "        <td id=\"T_15caf2cd_a936_11e8_8d78_0024d7776824row1_col7\" class=\"data row1 col7\" >2</td> \n",
       "        <td id=\"T_15caf2cd_a936_11e8_8d78_0024d7776824row1_col8\" class=\"data row1 col8\" >40</td> \n",
       "        <td id=\"T_15caf2cd_a936_11e8_8d78_0024d7776824row1_col9\" class=\"data row1 col9\" >0</td> \n",
       "        <td id=\"T_15caf2cd_a936_11e8_8d78_0024d7776824row1_col10\" class=\"data row1 col10\" >0</td> \n",
       "        <td id=\"T_15caf2cd_a936_11e8_8d78_0024d7776824row1_col11\" class=\"data row1 col11\" >0</td> \n",
       "        <td id=\"T_15caf2cd_a936_11e8_8d78_0024d7776824row1_col12\" class=\"data row1 col12\" >517</td> \n",
       "        <td id=\"T_15caf2cd_a936_11e8_8d78_0024d7776824row1_col13\" class=\"data row1 col13\" >0</td> \n",
       "        <td id=\"T_15caf2cd_a936_11e8_8d78_0024d7776824row1_col14\" class=\"data row1 col14\" >0</td> \n",
       "        <td id=\"T_15caf2cd_a936_11e8_8d78_0024d7776824row1_col15\" class=\"data row1 col15\" >6</td> \n",
       "        <td id=\"T_15caf2cd_a936_11e8_8d78_0024d7776824row1_col16\" class=\"data row1 col16\" >1</td> \n",
       "    </tr></tbody> \n",
       "</table> "
      ],
      "text/plain": [
       "<pandas.io.formats.style.Styler at 0x7f0c67ac7dd8>"
      ]
     },
     "execution_count": 28,
     "metadata": {},
     "output_type": "execute_result"
    }
   ],
   "source": [
    "for dataset in [df]:\n",
    "    dataset['Title'] = dataset['Name'].str.extract(' ([A-Za-z]+)\\.', expand=False)\n",
    "pd.crosstab(df['Sex'], df['Title']).style.background_gradient(cmap='summer_r')"
   ]
  },
  {
   "cell_type": "markdown",
   "metadata": {},
   "source": [
    "Replacing raraly used titles with rare and replacing other titles with a more common one."
   ]
  },
  {
   "cell_type": "code",
   "execution_count": 29,
   "metadata": {},
   "outputs": [
    {
     "data": {
      "text/html": [
       "<div>\n",
       "<style scoped>\n",
       "    .dataframe tbody tr th:only-of-type {\n",
       "        vertical-align: middle;\n",
       "    }\n",
       "\n",
       "    .dataframe tbody tr th {\n",
       "        vertical-align: top;\n",
       "    }\n",
       "\n",
       "    .dataframe thead th {\n",
       "        text-align: right;\n",
       "    }\n",
       "</style>\n",
       "<table border=\"1\" class=\"dataframe\">\n",
       "  <thead>\n",
       "    <tr style=\"text-align: right;\">\n",
       "      <th></th>\n",
       "      <th>Title</th>\n",
       "      <th>Survived</th>\n",
       "    </tr>\n",
       "  </thead>\n",
       "  <tbody>\n",
       "    <tr>\n",
       "      <th>3</th>\n",
       "      <td>Mrs</td>\n",
       "      <td>0.793651</td>\n",
       "    </tr>\n",
       "    <tr>\n",
       "      <th>1</th>\n",
       "      <td>Miss</td>\n",
       "      <td>0.702703</td>\n",
       "    </tr>\n",
       "    <tr>\n",
       "      <th>0</th>\n",
       "      <td>Master</td>\n",
       "      <td>0.575000</td>\n",
       "    </tr>\n",
       "    <tr>\n",
       "      <th>4</th>\n",
       "      <td>Rare</td>\n",
       "      <td>0.347826</td>\n",
       "    </tr>\n",
       "    <tr>\n",
       "      <th>2</th>\n",
       "      <td>Mr</td>\n",
       "      <td>0.156673</td>\n",
       "    </tr>\n",
       "  </tbody>\n",
       "</table>\n",
       "</div>"
      ],
      "text/plain": [
       "    Title  Survived\n",
       "3     Mrs  0.793651\n",
       "1    Miss  0.702703\n",
       "0  Master  0.575000\n",
       "4    Rare  0.347826\n",
       "2      Mr  0.156673"
      ]
     },
     "execution_count": 29,
     "metadata": {},
     "output_type": "execute_result"
    }
   ],
   "source": [
    "for dataset in [df]:\n",
    "    dataset['Title']= dataset['Title'].replace(['Capt', 'Col', 'Countess', 'Don', 'Dr', 'Jonkheer',\\\n",
    "                                                 'Lady', 'Major', 'Rev', 'Sir'],'Rare')\n",
    "    dataset['Title']= dataset['Title'].replace(['Mlle', 'Ms'], 'Miss')\n",
    "    dataset['Title']= dataset['Title'].replace('Mme', 'Mrs')\n",
    "df[['Title', 'Survived']]. groupby(['Title'], as_index=False).mean().sort_values(by='Survived', ascending=False)"
   ]
  },
  {
   "cell_type": "markdown",
   "metadata": {},
   "source": [
    "Convert categorical data to ordinal"
   ]
  },
  {
   "cell_type": "code",
   "execution_count": 30,
   "metadata": {},
   "outputs": [
    {
     "data": {
      "text/html": [
       "<div>\n",
       "<style scoped>\n",
       "    .dataframe tbody tr th:only-of-type {\n",
       "        vertical-align: middle;\n",
       "    }\n",
       "\n",
       "    .dataframe tbody tr th {\n",
       "        vertical-align: top;\n",
       "    }\n",
       "\n",
       "    .dataframe thead th {\n",
       "        text-align: right;\n",
       "    }\n",
       "</style>\n",
       "<table border=\"1\" class=\"dataframe\">\n",
       "  <thead>\n",
       "    <tr style=\"text-align: right;\">\n",
       "      <th></th>\n",
       "      <th>Survived</th>\n",
       "      <th>Pclass</th>\n",
       "      <th>Name</th>\n",
       "      <th>Sex</th>\n",
       "      <th>Age</th>\n",
       "      <th>SibSp</th>\n",
       "      <th>Parch</th>\n",
       "      <th>Fare</th>\n",
       "      <th>Embarked</th>\n",
       "      <th>Relatives</th>\n",
       "      <th>Alone</th>\n",
       "      <th>Title</th>\n",
       "    </tr>\n",
       "  </thead>\n",
       "  <tbody>\n",
       "    <tr>\n",
       "      <th>0</th>\n",
       "      <td>0</td>\n",
       "      <td>3</td>\n",
       "      <td>Braund, Mr. Owen Harris</td>\n",
       "      <td>male</td>\n",
       "      <td>22.0</td>\n",
       "      <td>1</td>\n",
       "      <td>0</td>\n",
       "      <td>7.2500</td>\n",
       "      <td>S</td>\n",
       "      <td>1</td>\n",
       "      <td>0</td>\n",
       "      <td>3</td>\n",
       "    </tr>\n",
       "    <tr>\n",
       "      <th>1</th>\n",
       "      <td>1</td>\n",
       "      <td>1</td>\n",
       "      <td>Cumings, Mrs. John Bradley (Florence Briggs Th...</td>\n",
       "      <td>female</td>\n",
       "      <td>38.0</td>\n",
       "      <td>1</td>\n",
       "      <td>0</td>\n",
       "      <td>71.2833</td>\n",
       "      <td>C</td>\n",
       "      <td>1</td>\n",
       "      <td>0</td>\n",
       "      <td>1</td>\n",
       "    </tr>\n",
       "    <tr>\n",
       "      <th>2</th>\n",
       "      <td>1</td>\n",
       "      <td>3</td>\n",
       "      <td>Heikkinen, Miss. Laina</td>\n",
       "      <td>female</td>\n",
       "      <td>26.0</td>\n",
       "      <td>0</td>\n",
       "      <td>0</td>\n",
       "      <td>7.9250</td>\n",
       "      <td>S</td>\n",
       "      <td>0</td>\n",
       "      <td>1</td>\n",
       "      <td>2</td>\n",
       "    </tr>\n",
       "    <tr>\n",
       "      <th>3</th>\n",
       "      <td>1</td>\n",
       "      <td>1</td>\n",
       "      <td>Futrelle, Mrs. Jacques Heath (Lily May Peel)</td>\n",
       "      <td>female</td>\n",
       "      <td>35.0</td>\n",
       "      <td>1</td>\n",
       "      <td>0</td>\n",
       "      <td>53.1000</td>\n",
       "      <td>S</td>\n",
       "      <td>1</td>\n",
       "      <td>0</td>\n",
       "      <td>1</td>\n",
       "    </tr>\n",
       "    <tr>\n",
       "      <th>4</th>\n",
       "      <td>0</td>\n",
       "      <td>3</td>\n",
       "      <td>Allen, Mr. William Henry</td>\n",
       "      <td>male</td>\n",
       "      <td>35.0</td>\n",
       "      <td>0</td>\n",
       "      <td>0</td>\n",
       "      <td>8.0500</td>\n",
       "      <td>S</td>\n",
       "      <td>0</td>\n",
       "      <td>1</td>\n",
       "      <td>3</td>\n",
       "    </tr>\n",
       "  </tbody>\n",
       "</table>\n",
       "</div>"
      ],
      "text/plain": [
       "   Survived  Pclass                                               Name  \\\n",
       "0         0       3                            Braund, Mr. Owen Harris   \n",
       "1         1       1  Cumings, Mrs. John Bradley (Florence Briggs Th...   \n",
       "2         1       3                             Heikkinen, Miss. Laina   \n",
       "3         1       1       Futrelle, Mrs. Jacques Heath (Lily May Peel)   \n",
       "4         0       3                           Allen, Mr. William Henry   \n",
       "\n",
       "      Sex   Age  SibSp  Parch     Fare Embarked  Relatives  Alone  Title  \n",
       "0    male  22.0      1      0   7.2500        S          1      0      3  \n",
       "1  female  38.0      1      0  71.2833        C          1      0      1  \n",
       "2  female  26.0      0      0   7.9250        S          0      1      2  \n",
       "3  female  35.0      1      0  53.1000        S          1      0      1  \n",
       "4    male  35.0      0      0   8.0500        S          0      1      3  "
      ]
     },
     "execution_count": 30,
     "metadata": {},
     "output_type": "execute_result"
    }
   ],
   "source": [
    "Title_mapping={\"Mrs\":1, \"Miss\":2, \"Mr\":3, \"Master\":4, \"Rare\":5}\n",
    "for dataset in [df]:\n",
    "    dataset['Title'] = dataset['Title'].map(Title_mapping)\n",
    "    dataset['Title'] = dataset['Title'].fillna(0)\n",
    "df.head()"
   ]
  },
  {
   "cell_type": "markdown",
   "metadata": {},
   "source": [
    "Now, after extracting Titles from Names we can safely drop the `Name` feature."
   ]
  },
  {
   "cell_type": "code",
   "execution_count": 31,
   "metadata": {},
   "outputs": [],
   "source": [
    "df.drop(['Name'], axis=1, inplace=True)"
   ]
  },
  {
   "cell_type": "markdown",
   "metadata": {},
   "source": [
    "## Converting String values into numerical.\n",
    "Most models need all values to be numerical in order to perform better."
   ]
  },
  {
   "cell_type": "markdown",
   "metadata": {},
   "source": [
    "3) converting categorical `Sex` values into Numerical discrete categories."
   ]
  },
  {
   "cell_type": "code",
   "execution_count": 32,
   "metadata": {},
   "outputs": [
    {
     "data": {
      "text/html": [
       "<div>\n",
       "<style scoped>\n",
       "    .dataframe tbody tr th:only-of-type {\n",
       "        vertical-align: middle;\n",
       "    }\n",
       "\n",
       "    .dataframe tbody tr th {\n",
       "        vertical-align: top;\n",
       "    }\n",
       "\n",
       "    .dataframe thead th {\n",
       "        text-align: right;\n",
       "    }\n",
       "</style>\n",
       "<table border=\"1\" class=\"dataframe\">\n",
       "  <thead>\n",
       "    <tr style=\"text-align: right;\">\n",
       "      <th></th>\n",
       "      <th>Survived</th>\n",
       "      <th>Pclass</th>\n",
       "      <th>Sex</th>\n",
       "      <th>Age</th>\n",
       "      <th>SibSp</th>\n",
       "      <th>Parch</th>\n",
       "      <th>Fare</th>\n",
       "      <th>Embarked</th>\n",
       "      <th>Relatives</th>\n",
       "      <th>Alone</th>\n",
       "      <th>Title</th>\n",
       "    </tr>\n",
       "  </thead>\n",
       "  <tbody>\n",
       "    <tr>\n",
       "      <th>0</th>\n",
       "      <td>0</td>\n",
       "      <td>3</td>\n",
       "      <td>0</td>\n",
       "      <td>22.0</td>\n",
       "      <td>1</td>\n",
       "      <td>0</td>\n",
       "      <td>7.2500</td>\n",
       "      <td>S</td>\n",
       "      <td>1</td>\n",
       "      <td>0</td>\n",
       "      <td>3</td>\n",
       "    </tr>\n",
       "    <tr>\n",
       "      <th>1</th>\n",
       "      <td>1</td>\n",
       "      <td>1</td>\n",
       "      <td>1</td>\n",
       "      <td>38.0</td>\n",
       "      <td>1</td>\n",
       "      <td>0</td>\n",
       "      <td>71.2833</td>\n",
       "      <td>C</td>\n",
       "      <td>1</td>\n",
       "      <td>0</td>\n",
       "      <td>1</td>\n",
       "    </tr>\n",
       "  </tbody>\n",
       "</table>\n",
       "</div>"
      ],
      "text/plain": [
       "   Survived  Pclass  Sex   Age  SibSp  Parch     Fare Embarked  Relatives  \\\n",
       "0         0       3    0  22.0      1      0   7.2500        S          1   \n",
       "1         1       1    1  38.0      1      0  71.2833        C          1   \n",
       "\n",
       "   Alone  Title  \n",
       "0      0      3  \n",
       "1      0      1  "
      ]
     },
     "execution_count": 32,
     "metadata": {},
     "output_type": "execute_result"
    }
   ],
   "source": [
    "for dataset in [df]:\n",
    "    dataset['Sex'] = dataset['Sex']. map({\"male\":0, \"female\":1}).astype(int)\n",
    "df.head(2)"
   ]
  },
  {
   "cell_type": "markdown",
   "metadata": {},
   "source": [
    "# completing missing Values"
   ]
  },
  {
   "cell_type": "markdown",
   "metadata": {},
   "source": [
    "### Completing Age values."
   ]
  },
  {
   "cell_type": "code",
   "execution_count": 33,
   "metadata": {},
   "outputs": [
    {
     "data": {
      "text/plain": [
       "<seaborn.axisgrid.FacetGrid at 0x7f0c67ac6f28>"
      ]
     },
     "execution_count": 33,
     "metadata": {},
     "output_type": "execute_result"
    },
    {
     "data": {
      "image/png": "[encoded data removed]",
      "text/plain": [
       "<Figure size 514.88x475.2 with 6 Axes>"
      ]
     },
     "metadata": {},
     "output_type": "display_data"
    }
   ],
   "source": [
    "grid = sns.FacetGrid(df, row='Pclass', col='Sex', size=2.2, aspect=1.6)\n",
    "grid.map(plt.hist, 'Age', alpha=.5, bins=20)\n",
    "grid.add_legend()"
   ]
  },
  {
   "cell_type": "markdown",
   "metadata": {},
   "source": [
    "`Age` feature is a continous feature.\n",
    "\n",
    "the method that we will confirm for filling missing `Age` values is:\n",
    "    \n",
    "> An accurate way of guessing missing values is to use other correlated features. In our case we note correlation among Age, Gender, and Pclass. Guess Age values using median values for Age across sets of Pclass and Gender feature combinations. So, median Age for Pclass=1 and Gender=0, Pclass=1 and Gender=1, and so on...\n",
    "\n"
   ]
  },
  {
   "cell_type": "code",
   "execution_count": 34,
   "metadata": {},
   "outputs": [],
   "source": [
    "df['Age'] = df.groupby(['Survived','Pclass'])['Age'].apply(lambda x: x.fillna(x.median()))\n",
    "df['Age'] = df['Age'].astype(int)"
   ]
  },
  {
   "cell_type": "markdown",
   "metadata": {},
   "source": [
    "### Converting Age into ordinal by making Age categories\n"
   ]
  },
  {
   "cell_type": "code",
   "execution_count": 35,
   "metadata": {},
   "outputs": [
    {
     "data": {
      "text/html": [
       "<div>\n",
       "<style scoped>\n",
       "    .dataframe tbody tr th:only-of-type {\n",
       "        vertical-align: middle;\n",
       "    }\n",
       "\n",
       "    .dataframe tbody tr th {\n",
       "        vertical-align: top;\n",
       "    }\n",
       "\n",
       "    .dataframe thead th {\n",
       "        text-align: right;\n",
       "    }\n",
       "</style>\n",
       "<table border=\"1\" class=\"dataframe\">\n",
       "  <thead>\n",
       "    <tr style=\"text-align: right;\">\n",
       "      <th></th>\n",
       "      <th>Survived</th>\n",
       "      <th>Pclass</th>\n",
       "      <th>Sex</th>\n",
       "      <th>Age</th>\n",
       "      <th>SibSp</th>\n",
       "      <th>Parch</th>\n",
       "      <th>Fare</th>\n",
       "      <th>Embarked</th>\n",
       "      <th>Relatives</th>\n",
       "      <th>Alone</th>\n",
       "      <th>Title</th>\n",
       "      <th>Age_Cat</th>\n",
       "    </tr>\n",
       "  </thead>\n",
       "  <tbody>\n",
       "    <tr>\n",
       "      <th>0</th>\n",
       "      <td>0</td>\n",
       "      <td>3</td>\n",
       "      <td>0</td>\n",
       "      <td>22</td>\n",
       "      <td>1</td>\n",
       "      <td>0</td>\n",
       "      <td>7.2500</td>\n",
       "      <td>S</td>\n",
       "      <td>1</td>\n",
       "      <td>0</td>\n",
       "      <td>3</td>\n",
       "      <td>22</td>\n",
       "    </tr>\n",
       "    <tr>\n",
       "      <th>1</th>\n",
       "      <td>1</td>\n",
       "      <td>1</td>\n",
       "      <td>1</td>\n",
       "      <td>38</td>\n",
       "      <td>1</td>\n",
       "      <td>0</td>\n",
       "      <td>71.2833</td>\n",
       "      <td>C</td>\n",
       "      <td>1</td>\n",
       "      <td>0</td>\n",
       "      <td>1</td>\n",
       "      <td>38</td>\n",
       "    </tr>\n",
       "    <tr>\n",
       "      <th>2</th>\n",
       "      <td>1</td>\n",
       "      <td>3</td>\n",
       "      <td>1</td>\n",
       "      <td>26</td>\n",
       "      <td>0</td>\n",
       "      <td>0</td>\n",
       "      <td>7.9250</td>\n",
       "      <td>S</td>\n",
       "      <td>0</td>\n",
       "      <td>1</td>\n",
       "      <td>2</td>\n",
       "      <td>26</td>\n",
       "    </tr>\n",
       "  </tbody>\n",
       "</table>\n",
       "</div>"
      ],
      "text/plain": [
       "   Survived  Pclass  Sex  Age  SibSp  Parch     Fare Embarked  Relatives  \\\n",
       "0         0       3    0   22      1      0   7.2500        S          1   \n",
       "1         1       1    1   38      1      0  71.2833        C          1   \n",
       "2         1       3    1   26      0      0   7.9250        S          0   \n",
       "\n",
       "   Alone  Title  Age_Cat  \n",
       "0      0      3       22  \n",
       "1      0      1       38  \n",
       "2      1      2       26  "
      ]
     },
     "execution_count": 35,
     "metadata": {},
     "output_type": "execute_result"
    }
   ],
   "source": [
    "df['Age_Cat'] = df['Age']\n",
    "df.head(3)"
   ]
  },
  {
   "cell_type": "code",
   "execution_count": 36,
   "metadata": {},
   "outputs": [],
   "source": [
    "def age_to_cat(age):\n",
    "    if age <4:\n",
    "        return 0 #baby\n",
    "    elif age <10:\n",
    "        return 1 #child\n",
    "    elif age <21:\n",
    "        return 2 #teen\n",
    "    elif age <33:\n",
    "        return 3 #young adult\n",
    "    elif age <50: #adult\n",
    "        return 4\n",
    "    return 5 #elder\n",
    "\n",
    "age_cat = {\n",
    "    0: \"baby\",\n",
    "    1: \"child\",\n",
    "    2: \"teen\",\n",
    "    3: \"yound adult\",\n",
    "    4: \"adult\",\n",
    "    5: \"elder\"\n",
    "}"
   ]
  },
  {
   "cell_type": "code",
   "execution_count": 37,
   "metadata": {},
   "outputs": [
    {
     "data": {
      "text/html": [
       "<div>\n",
       "<style scoped>\n",
       "    .dataframe tbody tr th:only-of-type {\n",
       "        vertical-align: middle;\n",
       "    }\n",
       "\n",
       "    .dataframe tbody tr th {\n",
       "        vertical-align: top;\n",
       "    }\n",
       "\n",
       "    .dataframe thead th {\n",
       "        text-align: right;\n",
       "    }\n",
       "</style>\n",
       "<table border=\"1\" class=\"dataframe\">\n",
       "  <thead>\n",
       "    <tr style=\"text-align: right;\">\n",
       "      <th></th>\n",
       "      <th>Survived</th>\n",
       "      <th>Pclass</th>\n",
       "      <th>Sex</th>\n",
       "      <th>Age</th>\n",
       "      <th>SibSp</th>\n",
       "      <th>Parch</th>\n",
       "      <th>Fare</th>\n",
       "      <th>Embarked</th>\n",
       "      <th>Relatives</th>\n",
       "      <th>Alone</th>\n",
       "      <th>Title</th>\n",
       "      <th>Age_Cat</th>\n",
       "    </tr>\n",
       "  </thead>\n",
       "  <tbody>\n",
       "    <tr>\n",
       "      <th>0</th>\n",
       "      <td>0</td>\n",
       "      <td>3</td>\n",
       "      <td>0</td>\n",
       "      <td>22</td>\n",
       "      <td>1</td>\n",
       "      <td>0</td>\n",
       "      <td>7.2500</td>\n",
       "      <td>S</td>\n",
       "      <td>1</td>\n",
       "      <td>0</td>\n",
       "      <td>3</td>\n",
       "      <td>3</td>\n",
       "    </tr>\n",
       "    <tr>\n",
       "      <th>1</th>\n",
       "      <td>1</td>\n",
       "      <td>1</td>\n",
       "      <td>1</td>\n",
       "      <td>38</td>\n",
       "      <td>1</td>\n",
       "      <td>0</td>\n",
       "      <td>71.2833</td>\n",
       "      <td>C</td>\n",
       "      <td>1</td>\n",
       "      <td>0</td>\n",
       "      <td>1</td>\n",
       "      <td>4</td>\n",
       "    </tr>\n",
       "    <tr>\n",
       "      <th>2</th>\n",
       "      <td>1</td>\n",
       "      <td>3</td>\n",
       "      <td>1</td>\n",
       "      <td>26</td>\n",
       "      <td>0</td>\n",
       "      <td>0</td>\n",
       "      <td>7.9250</td>\n",
       "      <td>S</td>\n",
       "      <td>0</td>\n",
       "      <td>1</td>\n",
       "      <td>2</td>\n",
       "      <td>3</td>\n",
       "    </tr>\n",
       "  </tbody>\n",
       "</table>\n",
       "</div>"
      ],
      "text/plain": [
       "   Survived  Pclass  Sex  Age  SibSp  Parch     Fare Embarked  Relatives  \\\n",
       "0         0       3    0   22      1      0   7.2500        S          1   \n",
       "1         1       1    1   38      1      0  71.2833        C          1   \n",
       "2         1       3    1   26      0      0   7.9250        S          0   \n",
       "\n",
       "   Alone  Title  Age_Cat  \n",
       "0      0      3        3  \n",
       "1      0      1        4  \n",
       "2      1      2        3  "
      ]
     },
     "execution_count": 37,
     "metadata": {},
     "output_type": "execute_result"
    }
   ],
   "source": [
    "df['Age_Cat'] = df['Age_Cat'].apply(age_to_cat)\n",
    "df.head(3)"
   ]
  },
  {
   "cell_type": "code",
   "execution_count": 38,
   "metadata": {},
   "outputs": [
    {
     "data": {
      "image/png": "[encoded data removed]",
      "text/plain": [
       "<Figure size 720x504 with 1 Axes>"
      ]
     },
     "metadata": {},
     "output_type": "display_data"
    }
   ],
   "source": [
    "df['Age_Cat'].hist(bins = 20, figsize=(10,7), alpha=.5)\n",
    "plt.show()"
   ]
  },
  {
   "cell_type": "markdown",
   "metadata": {},
   "source": [
    "### Completing Embarked values.\n"
   ]
  },
  {
   "cell_type": "markdown",
   "metadata": {},
   "source": [
    "Since the `Embarked` feature has only 2 missing values, we will simply fill these with the most common one."
   ]
  },
  {
   "cell_type": "code",
   "execution_count": 39,
   "metadata": {},
   "outputs": [
    {
     "data": {
      "text/plain": [
       "count     889\n",
       "unique      3\n",
       "top         S\n",
       "freq      644\n",
       "Name: Embarked, dtype: object"
      ]
     },
     "execution_count": 39,
     "metadata": {},
     "output_type": "execute_result"
    }
   ],
   "source": [
    "df['Embarked'].describe()"
   ]
  },
  {
   "cell_type": "code",
   "execution_count": 40,
   "metadata": {},
   "outputs": [],
   "source": [
    "df['Embarked'] = df['Embarked'].fillna('S')"
   ]
  },
  {
   "cell_type": "markdown",
   "metadata": {},
   "source": [
    "# Converting Embarked categorical feature to numeric¶\n"
   ]
  },
  {
   "cell_type": "code",
   "execution_count": 41,
   "metadata": {},
   "outputs": [],
   "source": [
    "for dataset in [df]:\n",
    "    dataset['Embarked'] = dataset['Embarked'].map({\"S\":0, \"C\":1, \"Q\":2})"
   ]
  },
  {
   "cell_type": "code",
   "execution_count": 42,
   "metadata": {},
   "outputs": [
    {
     "data": {
      "text/html": [
       "<div>\n",
       "<style scoped>\n",
       "    .dataframe tbody tr th:only-of-type {\n",
       "        vertical-align: middle;\n",
       "    }\n",
       "\n",
       "    .dataframe tbody tr th {\n",
       "        vertical-align: top;\n",
       "    }\n",
       "\n",
       "    .dataframe thead th {\n",
       "        text-align: right;\n",
       "    }\n",
       "</style>\n",
       "<table border=\"1\" class=\"dataframe\">\n",
       "  <thead>\n",
       "    <tr style=\"text-align: right;\">\n",
       "      <th></th>\n",
       "      <th>Survived</th>\n",
       "      <th>Pclass</th>\n",
       "      <th>Sex</th>\n",
       "      <th>Age</th>\n",
       "      <th>SibSp</th>\n",
       "      <th>Parch</th>\n",
       "      <th>Fare</th>\n",
       "      <th>Embarked</th>\n",
       "      <th>Relatives</th>\n",
       "      <th>Alone</th>\n",
       "      <th>Title</th>\n",
       "      <th>Age_Cat</th>\n",
       "    </tr>\n",
       "  </thead>\n",
       "  <tbody>\n",
       "    <tr>\n",
       "      <th>0</th>\n",
       "      <td>0</td>\n",
       "      <td>3</td>\n",
       "      <td>0</td>\n",
       "      <td>22</td>\n",
       "      <td>1</td>\n",
       "      <td>0</td>\n",
       "      <td>7.2500</td>\n",
       "      <td>0</td>\n",
       "      <td>1</td>\n",
       "      <td>0</td>\n",
       "      <td>3</td>\n",
       "      <td>3</td>\n",
       "    </tr>\n",
       "    <tr>\n",
       "      <th>1</th>\n",
       "      <td>1</td>\n",
       "      <td>1</td>\n",
       "      <td>1</td>\n",
       "      <td>38</td>\n",
       "      <td>1</td>\n",
       "      <td>0</td>\n",
       "      <td>71.2833</td>\n",
       "      <td>1</td>\n",
       "      <td>1</td>\n",
       "      <td>0</td>\n",
       "      <td>1</td>\n",
       "      <td>4</td>\n",
       "    </tr>\n",
       "    <tr>\n",
       "      <th>2</th>\n",
       "      <td>1</td>\n",
       "      <td>3</td>\n",
       "      <td>1</td>\n",
       "      <td>26</td>\n",
       "      <td>0</td>\n",
       "      <td>0</td>\n",
       "      <td>7.9250</td>\n",
       "      <td>0</td>\n",
       "      <td>0</td>\n",
       "      <td>1</td>\n",
       "      <td>2</td>\n",
       "      <td>3</td>\n",
       "    </tr>\n",
       "    <tr>\n",
       "      <th>3</th>\n",
       "      <td>1</td>\n",
       "      <td>1</td>\n",
       "      <td>1</td>\n",
       "      <td>35</td>\n",
       "      <td>1</td>\n",
       "      <td>0</td>\n",
       "      <td>53.1000</td>\n",
       "      <td>0</td>\n",
       "      <td>1</td>\n",
       "      <td>0</td>\n",
       "      <td>1</td>\n",
       "      <td>4</td>\n",
       "    </tr>\n",
       "    <tr>\n",
       "      <th>4</th>\n",
       "      <td>0</td>\n",
       "      <td>3</td>\n",
       "      <td>0</td>\n",
       "      <td>35</td>\n",
       "      <td>0</td>\n",
       "      <td>0</td>\n",
       "      <td>8.0500</td>\n",
       "      <td>0</td>\n",
       "      <td>0</td>\n",
       "      <td>1</td>\n",
       "      <td>3</td>\n",
       "      <td>4</td>\n",
       "    </tr>\n",
       "  </tbody>\n",
       "</table>\n",
       "</div>"
      ],
      "text/plain": [
       "   Survived  Pclass  Sex  Age  SibSp  Parch     Fare  Embarked  Relatives  \\\n",
       "0         0       3    0   22      1      0   7.2500         0          1   \n",
       "1         1       1    1   38      1      0  71.2833         1          1   \n",
       "2         1       3    1   26      0      0   7.9250         0          0   \n",
       "3         1       1    1   35      1      0  53.1000         0          1   \n",
       "4         0       3    0   35      0      0   8.0500         0          0   \n",
       "\n",
       "   Alone  Title  Age_Cat  \n",
       "0      0      3        3  \n",
       "1      0      1        4  \n",
       "2      1      2        3  \n",
       "3      0      1        4  \n",
       "4      1      3        4  "
      ]
     },
     "execution_count": 42,
     "metadata": {},
     "output_type": "execute_result"
    }
   ],
   "source": [
    "df.head()"
   ]
  },
  {
   "cell_type": "markdown",
   "metadata": {},
   "source": [
    "# Converting Fare from Float to int¶\n"
   ]
  },
  {
   "cell_type": "code",
   "execution_count": 43,
   "metadata": {},
   "outputs": [],
   "source": [
    "df['Fare'] = df['Fare'].astype(int)"
   ]
  },
  {
   "cell_type": "markdown",
   "metadata": {},
   "source": [
    "# Converting Fare to ordinal categories"
   ]
  },
  {
   "cell_type": "code",
   "execution_count": 44,
   "metadata": {},
   "outputs": [
    {
     "data": {
      "text/html": [
       "<div>\n",
       "<style scoped>\n",
       "    .dataframe tbody tr th:only-of-type {\n",
       "        vertical-align: middle;\n",
       "    }\n",
       "\n",
       "    .dataframe tbody tr th {\n",
       "        vertical-align: top;\n",
       "    }\n",
       "\n",
       "    .dataframe thead th {\n",
       "        text-align: right;\n",
       "    }\n",
       "</style>\n",
       "<table border=\"1\" class=\"dataframe\">\n",
       "  <thead>\n",
       "    <tr style=\"text-align: right;\">\n",
       "      <th></th>\n",
       "      <th>FareBand</th>\n",
       "      <th>Survived</th>\n",
       "    </tr>\n",
       "  </thead>\n",
       "  <tbody>\n",
       "    <tr>\n",
       "      <th>0</th>\n",
       "      <td>(-0.001, 7.0]</td>\n",
       "      <td>0.215768</td>\n",
       "    </tr>\n",
       "    <tr>\n",
       "      <th>1</th>\n",
       "      <td>(7.0, 14.0]</td>\n",
       "      <td>0.287037</td>\n",
       "    </tr>\n",
       "    <tr>\n",
       "      <th>2</th>\n",
       "      <td>(14.0, 31.0]</td>\n",
       "      <td>0.457399</td>\n",
       "    </tr>\n",
       "    <tr>\n",
       "      <th>3</th>\n",
       "      <td>(31.0, 512.0]</td>\n",
       "      <td>0.597156</td>\n",
       "    </tr>\n",
       "  </tbody>\n",
       "</table>\n",
       "</div>"
      ],
      "text/plain": [
       "        FareBand  Survived\n",
       "0  (-0.001, 7.0]  0.215768\n",
       "1    (7.0, 14.0]  0.287037\n",
       "2   (14.0, 31.0]  0.457399\n",
       "3  (31.0, 512.0]  0.597156"
      ]
     },
     "execution_count": 44,
     "metadata": {},
     "output_type": "execute_result"
    }
   ],
   "source": [
    "df['FareBand'] = pd.qcut(df['Fare'], 4)\n",
    "df[['FareBand', 'Survived']].groupby(['FareBand'], as_index=False).mean().sort_values(by='FareBand', ascending=True)\n"
   ]
  },
  {
   "cell_type": "code",
   "execution_count": 45,
   "metadata": {},
   "outputs": [
    {
     "data": {
      "text/html": [
       "<div>\n",
       "<style scoped>\n",
       "    .dataframe tbody tr th:only-of-type {\n",
       "        vertical-align: middle;\n",
       "    }\n",
       "\n",
       "    .dataframe tbody tr th {\n",
       "        vertical-align: top;\n",
       "    }\n",
       "\n",
       "    .dataframe thead th {\n",
       "        text-align: right;\n",
       "    }\n",
       "</style>\n",
       "<table border=\"1\" class=\"dataframe\">\n",
       "  <thead>\n",
       "    <tr style=\"text-align: right;\">\n",
       "      <th></th>\n",
       "      <th>Survived</th>\n",
       "      <th>Pclass</th>\n",
       "      <th>Sex</th>\n",
       "      <th>Age</th>\n",
       "      <th>SibSp</th>\n",
       "      <th>Parch</th>\n",
       "      <th>Fare</th>\n",
       "      <th>Embarked</th>\n",
       "      <th>Relatives</th>\n",
       "      <th>Alone</th>\n",
       "      <th>Title</th>\n",
       "      <th>Age_Cat</th>\n",
       "    </tr>\n",
       "  </thead>\n",
       "  <tbody>\n",
       "    <tr>\n",
       "      <th>0</th>\n",
       "      <td>0</td>\n",
       "      <td>3</td>\n",
       "      <td>0</td>\n",
       "      <td>22</td>\n",
       "      <td>1</td>\n",
       "      <td>0</td>\n",
       "      <td>0</td>\n",
       "      <td>0</td>\n",
       "      <td>1</td>\n",
       "      <td>0</td>\n",
       "      <td>3</td>\n",
       "      <td>3</td>\n",
       "    </tr>\n",
       "    <tr>\n",
       "      <th>1</th>\n",
       "      <td>1</td>\n",
       "      <td>1</td>\n",
       "      <td>1</td>\n",
       "      <td>38</td>\n",
       "      <td>1</td>\n",
       "      <td>0</td>\n",
       "      <td>3</td>\n",
       "      <td>1</td>\n",
       "      <td>1</td>\n",
       "      <td>0</td>\n",
       "      <td>1</td>\n",
       "      <td>4</td>\n",
       "    </tr>\n",
       "    <tr>\n",
       "      <th>2</th>\n",
       "      <td>1</td>\n",
       "      <td>3</td>\n",
       "      <td>1</td>\n",
       "      <td>26</td>\n",
       "      <td>0</td>\n",
       "      <td>0</td>\n",
       "      <td>0</td>\n",
       "      <td>0</td>\n",
       "      <td>0</td>\n",
       "      <td>1</td>\n",
       "      <td>2</td>\n",
       "      <td>3</td>\n",
       "    </tr>\n",
       "    <tr>\n",
       "      <th>3</th>\n",
       "      <td>1</td>\n",
       "      <td>1</td>\n",
       "      <td>1</td>\n",
       "      <td>35</td>\n",
       "      <td>1</td>\n",
       "      <td>0</td>\n",
       "      <td>3</td>\n",
       "      <td>0</td>\n",
       "      <td>1</td>\n",
       "      <td>0</td>\n",
       "      <td>1</td>\n",
       "      <td>4</td>\n",
       "    </tr>\n",
       "    <tr>\n",
       "      <th>4</th>\n",
       "      <td>0</td>\n",
       "      <td>3</td>\n",
       "      <td>0</td>\n",
       "      <td>35</td>\n",
       "      <td>0</td>\n",
       "      <td>0</td>\n",
       "      <td>1</td>\n",
       "      <td>0</td>\n",
       "      <td>0</td>\n",
       "      <td>1</td>\n",
       "      <td>3</td>\n",
       "      <td>4</td>\n",
       "    </tr>\n",
       "  </tbody>\n",
       "</table>\n",
       "</div>"
      ],
      "text/plain": [
       "   Survived  Pclass  Sex  Age  SibSp  Parch  Fare  Embarked  Relatives  Alone  \\\n",
       "0         0       3    0   22      1      0     0         0          1      0   \n",
       "1         1       1    1   38      1      0     3         1          1      0   \n",
       "2         1       3    1   26      0      0     0         0          0      1   \n",
       "3         1       1    1   35      1      0     3         0          1      0   \n",
       "4         0       3    0   35      0      0     1         0          0      1   \n",
       "\n",
       "   Title  Age_Cat  \n",
       "0      3        3  \n",
       "1      1        4  \n",
       "2      2        3  \n",
       "3      1        4  \n",
       "4      3        4  "
      ]
     },
     "execution_count": 45,
     "metadata": {},
     "output_type": "execute_result"
    }
   ],
   "source": [
    "for dataset in [df]:\n",
    "    dataset.loc[ dataset['Fare'] <= 7.0, 'Fare'] = 0\n",
    "    dataset.loc[(dataset['Fare'] > 7.0) & (dataset['Fare'] <= 14.0), 'Fare'] = 1\n",
    "    dataset.loc[(dataset['Fare'] > 14.0) & (dataset['Fare'] <= 31), 'Fare']   = 2\n",
    "    dataset.loc[ dataset['Fare'] > 31, 'Fare'] = 3\n",
    "    dataset['Fare'] = dataset['Fare'].astype(int)\n",
    "\n",
    "df = df.drop(['FareBand'], axis=1)\n",
    "    \n",
    "df.head()"
   ]
  },
  {
   "cell_type": "markdown",
   "metadata": {},
   "source": [
    "========================================================================================="
   ]
  },
  {
   "cell_type": "markdown",
   "metadata": {},
   "source": [
    "========================================================================================="
   ]
  },
  {
   "cell_type": "markdown",
   "metadata": {},
   "source": [
    "<h1 style=\"font-family:verdana; color:blue\"> Model Prediction</h1>\n"
   ]
  },
  {
   "cell_type": "markdown",
   "metadata": {},
   "source": [
    "Every Machine Learning Model consists of three parts which we will walk through:\n",
    "    - Representation\n",
    "    - Evaluation\n",
    "    - Optimization"
   ]
  },
  {
   "cell_type": "markdown",
   "metadata": {},
   "source": [
    "First we need to identify the type of te problem which is **_Supervised_** learning problem beacuse we already have the labeled target variable, and it's a **_classification_** problem because our dependant variable consists of two categories."
   ]
  },
  {
   "cell_type": "markdown",
   "metadata": {},
   "source": [
    "## splitting data"
   ]
  },
  {
   "cell_type": "code",
   "execution_count": 46,
   "metadata": {},
   "outputs": [],
   "source": [
    "from sklearn.model_selection import train_test_split\n",
    "\n",
    "X = df.drop(['Survived'], axis=1)\n",
    "y = df['Survived']\n",
    "\n",
    "X_train,X_test,y_train,y_test = train_test_split(X, y, test_size=.3, random_state=42)"
   ]
  },
  {
   "cell_type": "markdown",
   "metadata": {},
   "source": [
    "# Representation"
   ]
  },
  {
   "cell_type": "markdown",
   "metadata": {},
   "source": [
    "our set of hypothesis will contain set of algorithms which we will evaluate and optimize the best one later on.\n",
    "\n",
    "The Algorithms which I will train the model on are:\n",
    "\n",
    "- Logistic Regression\n",
    "- Random Forest\n",
    "- KNN\n",
    "- SVM\n",
    "- Decision Trees"
   ]
  },
  {
   "cell_type": "code",
   "execution_count": 47,
   "metadata": {},
   "outputs": [],
   "source": [
    "from sklearn.linear_model import LogisticRegression\n",
    "from sklearn.ensemble import RandomForestClassifier as RandomForest\n",
    "from sklearn.neighbors import KNeighborsClassifier as KNeighbors\n",
    "from sklearn.svm import SVC\n",
    "from sklearn.tree import DecisionTreeClassifier as DecisionTree"
   ]
  },
  {
   "cell_type": "code",
   "execution_count": 48,
   "metadata": {},
   "outputs": [
    {
     "data": {
      "text/plain": [
       "80.58"
      ]
     },
     "execution_count": 48,
     "metadata": {},
     "output_type": "execute_result"
    }
   ],
   "source": [
    "#Logistic Regression\n",
    "logReg = LogisticRegression()\n",
    "logReg.fit(X_train, y_train)\n",
    "y_pred = logReg.predict(X_test)\n",
    "acc_logReg = round(logReg.score(X_train, y_train) * 100, 2)\n",
    "acc_logReg"
   ]
  },
  {
   "cell_type": "code",
   "execution_count": 49,
   "metadata": {},
   "outputs": [
    {
     "data": {
      "text/plain": [
       "96.79"
      ]
     },
     "execution_count": 49,
     "metadata": {},
     "output_type": "execute_result"
    }
   ],
   "source": [
    "#Random Forest\n",
    "rf = RandomForest(n_estimators=100)\n",
    "rf.fit(X_train, y_train)\n",
    "y_pred = rf.predict(X_test)\n",
    "acc_rf = round(rf.score(X_train, y_train) * 100, 2)\n",
    "acc_rf"
   ]
  },
  {
   "cell_type": "code",
   "execution_count": 50,
   "metadata": {},
   "outputs": [
    {
     "data": {
      "text/plain": [
       "88.28"
      ]
     },
     "execution_count": 50,
     "metadata": {},
     "output_type": "execute_result"
    }
   ],
   "source": [
    "#KNN\n",
    "knn = KNeighbors(n_neighbors=3)\n",
    "knn.fit(X_train, y_train)\n",
    "y_pred = knn.predict(X_test)\n",
    "acc_knn = round(knn.score(X_train, y_train) * 100, 2)\n",
    "acc_knn"
   ]
  },
  {
   "cell_type": "code",
   "execution_count": 51,
   "metadata": {},
   "outputs": [
    {
     "data": {
      "text/plain": [
       "88.92"
      ]
     },
     "execution_count": 51,
     "metadata": {},
     "output_type": "execute_result"
    }
   ],
   "source": [
    "#SVM\n",
    "svc = SVC()\n",
    "svc.fit(X_train, y_train)\n",
    "y_pred = svc.predict(X_test)\n",
    "acc_svc = round(svc.score(X_train, y_train) * 100, 2)\n",
    "acc_svc"
   ]
  },
  {
   "cell_type": "code",
   "execution_count": 52,
   "metadata": {},
   "outputs": [
    {
     "data": {
      "text/plain": [
       "96.79"
      ]
     },
     "execution_count": 52,
     "metadata": {},
     "output_type": "execute_result"
    }
   ],
   "source": [
    "# Decision Tree\n",
    "\n",
    "dt = DecisionTree()\n",
    "dt.fit(X_train, y_train)\n",
    "y_pred = dt.predict(X_test)\n",
    "acc_dt = round(dt.score(X_train, y_train) * 100, 2)\n",
    "acc_dt"
   ]
  },
  {
   "cell_type": "markdown",
   "metadata": {},
   "source": [
    "# Evaluation"
   ]
  },
  {
   "cell_type": "markdown",
   "metadata": {},
   "source": [
    "We can now rank our evaluation of all the models to choose the best one for our problem. While both Decision Tree and Random Forest score the same, we choose to use Random Forest as they correct for decision trees' habit of overfitting to their training set."
   ]
  },
  {
   "cell_type": "code",
   "execution_count": 53,
   "metadata": {},
   "outputs": [
    {
     "data": {
      "text/html": [
       "<div>\n",
       "<style scoped>\n",
       "    .dataframe tbody tr th:only-of-type {\n",
       "        vertical-align: middle;\n",
       "    }\n",
       "\n",
       "    .dataframe tbody tr th {\n",
       "        vertical-align: top;\n",
       "    }\n",
       "\n",
       "    .dataframe thead th {\n",
       "        text-align: right;\n",
       "    }\n",
       "</style>\n",
       "<table border=\"1\" class=\"dataframe\">\n",
       "  <thead>\n",
       "    <tr style=\"text-align: right;\">\n",
       "      <th></th>\n",
       "      <th>Model</th>\n",
       "      <th>Score</th>\n",
       "    </tr>\n",
       "  </thead>\n",
       "  <tbody>\n",
       "    <tr>\n",
       "      <th>1</th>\n",
       "      <td>Random Forest</td>\n",
       "      <td>96.79</td>\n",
       "    </tr>\n",
       "    <tr>\n",
       "      <th>4</th>\n",
       "      <td>Decision Tree</td>\n",
       "      <td>96.79</td>\n",
       "    </tr>\n",
       "    <tr>\n",
       "      <th>3</th>\n",
       "      <td>SVC</td>\n",
       "      <td>88.92</td>\n",
       "    </tr>\n",
       "    <tr>\n",
       "      <th>2</th>\n",
       "      <td>KNN</td>\n",
       "      <td>88.28</td>\n",
       "    </tr>\n",
       "    <tr>\n",
       "      <th>0</th>\n",
       "      <td>Logistic Regression</td>\n",
       "      <td>80.58</td>\n",
       "    </tr>\n",
       "  </tbody>\n",
       "</table>\n",
       "</div>"
      ],
      "text/plain": [
       "                 Model  Score\n",
       "1        Random Forest  96.79\n",
       "4        Decision Tree  96.79\n",
       "3                  SVC  88.92\n",
       "2                  KNN  88.28\n",
       "0  Logistic Regression  80.58"
      ]
     },
     "execution_count": 53,
     "metadata": {},
     "output_type": "execute_result"
    }
   ],
   "source": [
    "models = pd.DataFrame({\n",
    "    'Model': ['Logistic Regression', 'Random Forest', 'KNN', 'SVC', 'Decision Tree'],\\\n",
    "    'Score': [acc_logReg, acc_rf, acc_knn, acc_svc, acc_dt]})\n",
    "models.sort_values(by='Score', ascending=False)"
   ]
  },
  {
   "cell_type": "markdown",
   "metadata": {},
   "source": [
    "# Optimization - Hyper Parameter tuning"
   ]
  },
  {
   "cell_type": "code",
   "execution_count": 54,
   "metadata": {},
   "outputs": [],
   "source": [
    "from sklearn.model_selection import GridSearchCV, cross_val_score\n",
    "from sklearn.metrics import fbeta_score, make_scorer\n",
    "\n",
    "\n",
    "clf = RandomForest(random_state=42)\n",
    "\n",
    "param_grid = {\"n_estimators\": [10,100, 1000, 1500],\\\n",
    "              \"min_samples_leaf\" : [1, 5, 10],\\\n",
    "              \"min_samples_split\" : [2, 4, 10],\\\n",
    "              \"max_depth\":[10, 20, 30, 40, 50, 60, 70, 80, 90, 100, None],\n",
    "              \"criterion\" : [\"gini\", \"entropy\"]}\n",
    "\n",
    "scorer = make_scorer(fbeta_score, beta=0.5)\n",
    "\n",
    "grid_obj = GridSearchCV(clf, param_grid=param_grid, cv=10, scoring=scorer)\n",
    "\n",
    "grid_fit = grid_obj.fit(X_train, y_train)\n",
    "\n",
    "# Get the estimator\n",
    "best_clf = grid_fit.best_estimator_\n",
    "\n",
    "grid_y_pred = grid_obj.predict(X_test)\n",
    "\n",
    "grid_score = round(grid_obj.score(X_train, y_train) * 100, 2)"
   ]
  },
  {
   "cell_type": "code",
   "execution_count": 55,
   "metadata": {},
   "outputs": [
    {
     "name": "stdout",
     "output_type": "stream",
     "text": [
      "Best Estimators:  RandomForestClassifier(bootstrap=True, class_weight=None, criterion='gini',\n",
      "            max_depth=10, max_features='auto', max_leaf_nodes=None,\n",
      "            min_impurity_decrease=0.0, min_impurity_split=None,\n",
      "            min_samples_leaf=1, min_samples_split=10,\n",
      "            min_weight_fraction_leaf=0.0, n_estimators=10, n_jobs=1,\n",
      "            oob_score=False, random_state=42, verbose=0, warm_start=False)\n",
      "GridSearchCV score:  89.89\n"
     ]
    }
   ],
   "source": [
    "print(\"Best Estimators: \", best_clf)\n",
    "print(\"GridSearchCV score: \", grid_score)"
   ]
  },
  {
   "cell_type": "markdown",
   "metadata": {},
   "source": [
    "# Some More Evaluations"
   ]
  },
  {
   "cell_type": "markdown",
   "metadata": {},
   "source": [
    "## Classification Report"
   ]
  },
  {
   "cell_type": "code",
   "execution_count": 57,
   "metadata": {},
   "outputs": [
    {
     "name": "stdout",
     "output_type": "stream",
     "text": [
      "             precision    recall  f1-score   support\n",
      "\n",
      "          0       0.81      0.92      0.86       157\n",
      "          1       0.87      0.69      0.77       111\n",
      "\n",
      "avg / total       0.83      0.83      0.82       268\n",
      "\n"
     ]
    }
   ],
   "source": [
    "from sklearn.metrics import classification_report\n",
    "print (classification_report(y_test, grid_y_pred))"
   ]
  },
  {
   "cell_type": "markdown",
   "metadata": {},
   "source": [
    "- **Precision:** Our model predicts 87% of the time, a passengers survival correctly (precision). \n",
    "- **Recall:** tells us that it predicted the survival of 69% of the people who actually survived."
   ]
  },
  {
   "cell_type": "markdown",
   "metadata": {},
   "source": [
    "## Confusion Matrix"
   ]
  },
  {
   "cell_type": "code",
   "execution_count": 70,
   "metadata": {},
   "outputs": [
    {
     "data": {
      "text/plain": [
       "<matplotlib.axes._subplots.AxesSubplot at 0x7f0c5d30b470>"
      ]
     },
     "execution_count": 70,
     "metadata": {},
     "output_type": "execute_result"
    },
    {
     "data": {
      "image/png": "[encoded data removed]",
      "text/plain": [
       "<Figure size 432x288 with 2 Axes>"
      ]
     },
     "metadata": {},
     "output_type": "display_data"
    }
   ],
   "source": [
    "from sklearn.metrics import confusion_matrix\n",
    "confusion_matrix = confusion_matrix(y_test, grid_y_pred)\n",
    "sns.heatmap(confusion_matrix, annot=True, fmt=\"d\")"
   ]
  },
  {
   "cell_type": "markdown",
   "metadata": {},
   "source": [
    "# ROC AUC Curve¶"
   ]
  },
  {
   "cell_type": "code",
   "execution_count": 74,
   "metadata": {},
   "outputs": [],
   "source": [
    "from sklearn.metrics import roc_curve\n",
    "false_positive_rate, true_positive_rate, threshold = roc_curve(y_test, grid_y_pred)"
   ]
  },
  {
   "cell_type": "code",
   "execution_count": 75,
   "metadata": {},
   "outputs": [
    {
     "data": {
      "image/png": "[encoded data removed]",
      "text/plain": [
       "<Figure size 1008x504 with 1 Axes>"
      ]
     },
     "metadata": {},
     "output_type": "display_data"
    }
   ],
   "source": [
    "# plotting them against each other\n",
    "def plot_roc_curve(false_positive_rate, true_positive_rate, label=None):\n",
    "    plt.plot(false_positive_rate, true_positive_rate, linewidth=2, label=label)\n",
    "    plt.plot([0, 1], [0, 1], 'r', linewidth=4)\n",
    "    plt.axis([0, 1, 0, 1])\n",
    "    plt.xlabel('False Positive Rate (FPR)', fontsize=16)\n",
    "    plt.ylabel('True Positive Rate (TPR)', fontsize=16)\n",
    "\n",
    "plt.figure(figsize=(14, 7))\n",
    "plot_roc_curve(false_positive_rate, true_positive_rate)\n",
    "plt.show()"
   ]
  },
  {
   "cell_type": "code",
   "execution_count": 82,
   "metadata": {},
   "outputs": [
    {
     "name": "stdout",
     "output_type": "stream",
     "text": [
      "Roc score:  81.0 %\n"
     ]
    }
   ],
   "source": [
    "from sklearn.metrics import roc_auc_score\n",
    "roc_auc_score = roc_auc_score(y_test, grid_y_pred)\n",
    "print(\"Roc score: \", round(roc_auc_score,2)*100, \"%\")"
   ]
  },
  {
   "cell_type": "code",
   "execution_count": null,
   "metadata": {},
   "outputs": [],
   "source": []
  }
 ],
 "metadata": {
  "kernelspec": {
   "display_name": "Python 3",
   "language": "python",
   "name": "python3"
  },
  "language_info": {
   "codemirror_mode": {
    "name": "ipython",
    "version": 3
   },
   "file_extension": ".py",
   "mimetype": "text/x-python",
   "name": "python",
   "nbconvert_exporter": "python",
   "pygments_lexer": "ipython3",
   "version": "3.6.5"
  }
 },
 "nbformat": 4,
 "nbformat_minor": 2
}
